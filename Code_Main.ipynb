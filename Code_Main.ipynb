{
 "cells": [
  {
   "cell_type": "code",
   "execution_count": 2,
   "id": "0a4b2a4c",
   "metadata": {},
   "outputs": [],
   "source": [
    "import os  \n",
    "import sys  \n",
    "import glob  \n",
    "  \n",
    "import numpy as np  \n",
    "import pandas as pd  \n",
    "import json\n",
    "  \n",
    "import matplotlib.pylab as plt  \n",
    "from matplotlib_venn import venn2  \n",
    "import seaborn as sns  \n",
    "\n",
    "import scorecardpy as sc\n",
    "  \n",
    "from tqdm import tqdm  \n",
    "from itertools import cycle  \n",
    "\n",
    "  \n",
    "from sklearn import metrics  \n",
    "from sklearn import model_selection  \n",
    "from sklearn import preprocessing  \n",
    "from sklearn import linear_model  \n",
    "from sklearn import feature_selection\n",
    "\n",
    "  \n",
    "pd.set_option(\"display.max_columns\", None)  \n",
    "  \n",
    "plt.style.use(\"ggplot\")  \n",
    "color_pal = plt.rcParams[\"axes.prop_cycle\"].by_key()[\"color\"]  \n",
    "color_cycle = cycle(plt.rcParams[\"axes.prop_cycle\"].by_key()[\"color\"])  "
   ]
  },
  {
   "cell_type": "code",
   "execution_count": 2,
   "id": "18658a0d",
   "metadata": {},
   "outputs": [
    {
     "name": "stdout",
     "output_type": "stream",
     "text": [
      "CPU times: total: 57.8 s\n",
      "Wall time: 25.9 s\n"
     ]
    },
    {
     "data": {
      "text/plain": [
       "((5531451, 190), (11363762, 190))"
      ]
     },
     "execution_count": 2,
     "metadata": {},
     "output_type": "execute_result"
    }
   ],
   "source": [
    "%%time  \n",
    "train_dataframe = pd.read_feather('train.feather')  \n",
    "test_dataframe = pd.read_feather('test.feather')  \n",
    "train_labels = pd.read_csv(\"train_labels.csv\")  \n",
    "train_dataframe.shape, test_dataframe.shape  "
   ]
  },
  {
   "cell_type": "code",
   "execution_count": 3,
   "id": "33c16424",
   "metadata": {},
   "outputs": [
    {
     "data": {
      "text/html": [
       "<div>\n",
       "<style scoped>\n",
       "    .dataframe tbody tr th:only-of-type {\n",
       "        vertical-align: middle;\n",
       "    }\n",
       "\n",
       "    .dataframe tbody tr th {\n",
       "        vertical-align: top;\n",
       "    }\n",
       "\n",
       "    .dataframe thead th {\n",
       "        text-align: right;\n",
       "    }\n",
       "</style>\n",
       "<table border=\"1\" class=\"dataframe\">\n",
       "  <thead>\n",
       "    <tr style=\"text-align: right;\">\n",
       "      <th></th>\n",
       "      <th>customer_ID</th>\n",
       "      <th>S_2</th>\n",
       "      <th>P_2</th>\n",
       "      <th>D_39</th>\n",
       "      <th>B_1</th>\n",
       "      <th>B_2</th>\n",
       "      <th>R_1</th>\n",
       "      <th>S_3</th>\n",
       "      <th>D_41</th>\n",
       "      <th>B_3</th>\n",
       "      <th>D_42</th>\n",
       "      <th>D_43</th>\n",
       "      <th>D_44</th>\n",
       "      <th>B_4</th>\n",
       "      <th>D_45</th>\n",
       "      <th>B_5</th>\n",
       "      <th>R_2</th>\n",
       "      <th>D_46</th>\n",
       "      <th>D_47</th>\n",
       "      <th>D_48</th>\n",
       "      <th>D_49</th>\n",
       "      <th>B_6</th>\n",
       "      <th>B_7</th>\n",
       "      <th>B_8</th>\n",
       "      <th>D_50</th>\n",
       "      <th>D_51</th>\n",
       "      <th>B_9</th>\n",
       "      <th>R_3</th>\n",
       "      <th>D_52</th>\n",
       "      <th>P_3</th>\n",
       "      <th>B_10</th>\n",
       "      <th>D_53</th>\n",
       "      <th>S_5</th>\n",
       "      <th>B_11</th>\n",
       "      <th>S_6</th>\n",
       "      <th>D_54</th>\n",
       "      <th>R_4</th>\n",
       "      <th>S_7</th>\n",
       "      <th>B_12</th>\n",
       "      <th>S_8</th>\n",
       "      <th>D_55</th>\n",
       "      <th>D_56</th>\n",
       "      <th>B_13</th>\n",
       "      <th>R_5</th>\n",
       "      <th>D_58</th>\n",
       "      <th>S_9</th>\n",
       "      <th>B_14</th>\n",
       "      <th>D_59</th>\n",
       "      <th>D_60</th>\n",
       "      <th>D_61</th>\n",
       "      <th>B_15</th>\n",
       "      <th>S_11</th>\n",
       "      <th>D_62</th>\n",
       "      <th>D_63</th>\n",
       "      <th>D_64</th>\n",
       "      <th>D_65</th>\n",
       "      <th>B_16</th>\n",
       "      <th>B_17</th>\n",
       "      <th>B_18</th>\n",
       "      <th>B_19</th>\n",
       "      <th>D_66</th>\n",
       "      <th>B_20</th>\n",
       "      <th>D_68</th>\n",
       "      <th>S_12</th>\n",
       "      <th>R_6</th>\n",
       "      <th>S_13</th>\n",
       "      <th>B_21</th>\n",
       "      <th>D_69</th>\n",
       "      <th>B_22</th>\n",
       "      <th>D_70</th>\n",
       "      <th>D_71</th>\n",
       "      <th>D_72</th>\n",
       "      <th>S_15</th>\n",
       "      <th>B_23</th>\n",
       "      <th>D_73</th>\n",
       "      <th>P_4</th>\n",
       "      <th>D_74</th>\n",
       "      <th>D_75</th>\n",
       "      <th>D_76</th>\n",
       "      <th>B_24</th>\n",
       "      <th>R_7</th>\n",
       "      <th>D_77</th>\n",
       "      <th>B_25</th>\n",
       "      <th>B_26</th>\n",
       "      <th>D_78</th>\n",
       "      <th>D_79</th>\n",
       "      <th>R_8</th>\n",
       "      <th>R_9</th>\n",
       "      <th>S_16</th>\n",
       "      <th>D_80</th>\n",
       "      <th>R_10</th>\n",
       "      <th>R_11</th>\n",
       "      <th>B_27</th>\n",
       "      <th>D_81</th>\n",
       "      <th>D_82</th>\n",
       "      <th>S_17</th>\n",
       "      <th>R_12</th>\n",
       "      <th>B_28</th>\n",
       "      <th>R_13</th>\n",
       "      <th>D_83</th>\n",
       "      <th>R_14</th>\n",
       "      <th>R_15</th>\n",
       "      <th>D_84</th>\n",
       "      <th>R_16</th>\n",
       "      <th>B_29</th>\n",
       "      <th>B_30</th>\n",
       "      <th>S_18</th>\n",
       "      <th>D_86</th>\n",
       "      <th>D_87</th>\n",
       "      <th>R_17</th>\n",
       "      <th>R_18</th>\n",
       "      <th>D_88</th>\n",
       "      <th>B_31</th>\n",
       "      <th>S_19</th>\n",
       "      <th>R_19</th>\n",
       "      <th>B_32</th>\n",
       "      <th>S_20</th>\n",
       "      <th>R_20</th>\n",
       "      <th>R_21</th>\n",
       "      <th>B_33</th>\n",
       "      <th>D_89</th>\n",
       "      <th>R_22</th>\n",
       "      <th>R_23</th>\n",
       "      <th>D_91</th>\n",
       "      <th>D_92</th>\n",
       "      <th>D_93</th>\n",
       "      <th>D_94</th>\n",
       "      <th>R_24</th>\n",
       "      <th>R_25</th>\n",
       "      <th>D_96</th>\n",
       "      <th>S_22</th>\n",
       "      <th>S_23</th>\n",
       "      <th>S_24</th>\n",
       "      <th>S_25</th>\n",
       "      <th>S_26</th>\n",
       "      <th>D_102</th>\n",
       "      <th>D_103</th>\n",
       "      <th>D_104</th>\n",
       "      <th>D_105</th>\n",
       "      <th>D_106</th>\n",
       "      <th>D_107</th>\n",
       "      <th>B_36</th>\n",
       "      <th>B_37</th>\n",
       "      <th>R_26</th>\n",
       "      <th>R_27</th>\n",
       "      <th>B_38</th>\n",
       "      <th>D_108</th>\n",
       "      <th>D_109</th>\n",
       "      <th>D_110</th>\n",
       "      <th>D_111</th>\n",
       "      <th>B_39</th>\n",
       "      <th>D_112</th>\n",
       "      <th>B_40</th>\n",
       "      <th>S_27</th>\n",
       "      <th>D_113</th>\n",
       "      <th>D_114</th>\n",
       "      <th>D_115</th>\n",
       "      <th>D_116</th>\n",
       "      <th>D_117</th>\n",
       "      <th>D_118</th>\n",
       "      <th>D_119</th>\n",
       "      <th>D_120</th>\n",
       "      <th>D_121</th>\n",
       "      <th>D_122</th>\n",
       "      <th>D_123</th>\n",
       "      <th>D_124</th>\n",
       "      <th>D_125</th>\n",
       "      <th>D_126</th>\n",
       "      <th>D_127</th>\n",
       "      <th>D_128</th>\n",
       "      <th>D_129</th>\n",
       "      <th>B_41</th>\n",
       "      <th>B_42</th>\n",
       "      <th>D_130</th>\n",
       "      <th>D_131</th>\n",
       "      <th>D_132</th>\n",
       "      <th>D_133</th>\n",
       "      <th>R_28</th>\n",
       "      <th>D_134</th>\n",
       "      <th>D_135</th>\n",
       "      <th>D_136</th>\n",
       "      <th>D_137</th>\n",
       "      <th>D_138</th>\n",
       "      <th>D_139</th>\n",
       "      <th>D_140</th>\n",
       "      <th>D_141</th>\n",
       "      <th>D_142</th>\n",
       "      <th>D_143</th>\n",
       "      <th>D_144</th>\n",
       "      <th>D_145</th>\n",
       "    </tr>\n",
       "  </thead>\n",
       "  <tbody>\n",
       "    <tr>\n",
       "      <th>0</th>\n",
       "      <td>0000099d6bd597052cdcda90ffabf56573fe9d7c79be5f...</td>\n",
       "      <td>2017-03-09</td>\n",
       "      <td>0.938477</td>\n",
       "      <td>0.001734</td>\n",
       "      <td>0.008728</td>\n",
       "      <td>1.006836</td>\n",
       "      <td>0.009224</td>\n",
       "      <td>0.124023</td>\n",
       "      <td>0.008774</td>\n",
       "      <td>0.004707</td>\n",
       "      <td>NaN</td>\n",
       "      <td>NaN</td>\n",
       "      <td>0.000630</td>\n",
       "      <td>0.080994</td>\n",
       "      <td>0.708984</td>\n",
       "      <td>0.170654</td>\n",
       "      <td>0.006203</td>\n",
       "      <td>0.358643</td>\n",
       "      <td>0.525391</td>\n",
       "      <td>0.255615</td>\n",
       "      <td>NaN</td>\n",
       "      <td>0.063904</td>\n",
       "      <td>0.059418</td>\n",
       "      <td>0.006466</td>\n",
       "      <td>0.148682</td>\n",
       "      <td>1.335938</td>\n",
       "      <td>0.008209</td>\n",
       "      <td>0.001423</td>\n",
       "      <td>0.207275</td>\n",
       "      <td>0.736328</td>\n",
       "      <td>0.096191</td>\n",
       "      <td>NaN</td>\n",
       "      <td>0.023376</td>\n",
       "      <td>0.002768</td>\n",
       "      <td>0.008324</td>\n",
       "      <td>1.001953</td>\n",
       "      <td>0.008301</td>\n",
       "      <td>0.161377</td>\n",
       "      <td>0.148315</td>\n",
       "      <td>0.922852</td>\n",
       "      <td>0.354492</td>\n",
       "      <td>0.151978</td>\n",
       "      <td>0.118103</td>\n",
       "      <td>0.001882</td>\n",
       "      <td>0.158569</td>\n",
       "      <td>0.065735</td>\n",
       "      <td>0.018387</td>\n",
       "      <td>0.063660</td>\n",
       "      <td>0.199585</td>\n",
       "      <td>0.308350</td>\n",
       "      <td>0.016357</td>\n",
       "      <td>0.401611</td>\n",
       "      <td>0.091064</td>\n",
       "      <td>0</td>\n",
       "      <td>1</td>\n",
       "      <td>0.007126</td>\n",
       "      <td>0.007664</td>\n",
       "      <td>NaN</td>\n",
       "      <td>0.652832</td>\n",
       "      <td>0.008522</td>\n",
       "      <td>-1</td>\n",
       "      <td>0.004730</td>\n",
       "      <td>6</td>\n",
       "      <td>0.271973</td>\n",
       "      <td>0.008362</td>\n",
       "      <td>0.515137</td>\n",
       "      <td>0.002644</td>\n",
       "      <td>0.009010</td>\n",
       "      <td>0.004807</td>\n",
       "      <td>0.008339</td>\n",
       "      <td>0.119385</td>\n",
       "      <td>0.004803</td>\n",
       "      <td>0.108276</td>\n",
       "      <td>0.050873</td>\n",
       "      <td>NaN</td>\n",
       "      <td>0.007553</td>\n",
       "      <td>0.080444</td>\n",
       "      <td>0.069092</td>\n",
       "      <td>NaN</td>\n",
       "      <td>0.004326</td>\n",
       "      <td>0.007561</td>\n",
       "      <td>NaN</td>\n",
       "      <td>0.007729</td>\n",
       "      <td>0.000272</td>\n",
       "      <td>0.001575</td>\n",
       "      <td>0.004238</td>\n",
       "      <td>0.001434</td>\n",
       "      <td>NaN</td>\n",
       "      <td>0.002272</td>\n",
       "      <td>0.004059</td>\n",
       "      <td>0.007122</td>\n",
       "      <td>0.002457</td>\n",
       "      <td>0.002310</td>\n",
       "      <td>0.003532</td>\n",
       "      <td>0.506836</td>\n",
       "      <td>0.008034</td>\n",
       "      <td>1.009766</td>\n",
       "      <td>0.084656</td>\n",
       "      <td>0.003820</td>\n",
       "      <td>0.007042</td>\n",
       "      <td>0.000438</td>\n",
       "      <td>0.006451</td>\n",
       "      <td>0.000830</td>\n",
       "      <td>0.005054</td>\n",
       "      <td>NaN</td>\n",
       "      <td>0</td>\n",
       "      <td>0.005722</td>\n",
       "      <td>0.007084</td>\n",
       "      <td>NaN</td>\n",
       "      <td>0.000198</td>\n",
       "      <td>0.008911</td>\n",
       "      <td>NaN</td>\n",
       "      <td>1.0</td>\n",
       "      <td>0.002537</td>\n",
       "      <td>0.005177</td>\n",
       "      <td>0.006626</td>\n",
       "      <td>0.009705</td>\n",
       "      <td>0.007782</td>\n",
       "      <td>0.002449</td>\n",
       "      <td>1.000977</td>\n",
       "      <td>0.002665</td>\n",
       "      <td>0.007481</td>\n",
       "      <td>0.006893</td>\n",
       "      <td>1.503906</td>\n",
       "      <td>1.005859</td>\n",
       "      <td>0.003569</td>\n",
       "      <td>0.008873</td>\n",
       "      <td>0.003948</td>\n",
       "      <td>0.003647</td>\n",
       "      <td>0.004951</td>\n",
       "      <td>0.894043</td>\n",
       "      <td>0.135620</td>\n",
       "      <td>0.911133</td>\n",
       "      <td>0.974609</td>\n",
       "      <td>0.001244</td>\n",
       "      <td>0.766602</td>\n",
       "      <td>1.008789</td>\n",
       "      <td>1.004883</td>\n",
       "      <td>0.893555</td>\n",
       "      <td>NaN</td>\n",
       "      <td>0.669922</td>\n",
       "      <td>0.009972</td>\n",
       "      <td>0.004570</td>\n",
       "      <td>NaN</td>\n",
       "      <td>1.008789</td>\n",
       "      <td>2</td>\n",
       "      <td>NaN</td>\n",
       "      <td>0.004326</td>\n",
       "      <td>NaN</td>\n",
       "      <td>NaN</td>\n",
       "      <td>NaN</td>\n",
       "      <td>1.007812</td>\n",
       "      <td>0.210083</td>\n",
       "      <td>0.676758</td>\n",
       "      <td>0.007874</td>\n",
       "      <td>1</td>\n",
       "      <td>0.238281</td>\n",
       "      <td>0</td>\n",
       "      <td>4</td>\n",
       "      <td>0.232178</td>\n",
       "      <td>0.236206</td>\n",
       "      <td>0</td>\n",
       "      <td>0.702148</td>\n",
       "      <td>0.434326</td>\n",
       "      <td>0.003057</td>\n",
       "      <td>0.686523</td>\n",
       "      <td>0.008743</td>\n",
       "      <td>1</td>\n",
       "      <td>1.002930</td>\n",
       "      <td>1.007812</td>\n",
       "      <td>1.000000</td>\n",
       "      <td>0.006805</td>\n",
       "      <td>NaN</td>\n",
       "      <td>0.002052</td>\n",
       "      <td>0.005970</td>\n",
       "      <td>NaN</td>\n",
       "      <td>0.004345</td>\n",
       "      <td>0.001534</td>\n",
       "      <td>NaN</td>\n",
       "      <td>NaN</td>\n",
       "      <td>NaN</td>\n",
       "      <td>NaN</td>\n",
       "      <td>NaN</td>\n",
       "      <td>0.002426</td>\n",
       "      <td>0.003706</td>\n",
       "      <td>0.003819</td>\n",
       "      <td>NaN</td>\n",
       "      <td>0.000569</td>\n",
       "      <td>0.000610</td>\n",
       "      <td>0.002674</td>\n",
       "    </tr>\n",
       "    <tr>\n",
       "      <th>1</th>\n",
       "      <td>0000099d6bd597052cdcda90ffabf56573fe9d7c79be5f...</td>\n",
       "      <td>2017-04-07</td>\n",
       "      <td>0.936523</td>\n",
       "      <td>0.005775</td>\n",
       "      <td>0.004925</td>\n",
       "      <td>1.000977</td>\n",
       "      <td>0.006153</td>\n",
       "      <td>0.126709</td>\n",
       "      <td>0.000798</td>\n",
       "      <td>0.002714</td>\n",
       "      <td>NaN</td>\n",
       "      <td>NaN</td>\n",
       "      <td>0.002525</td>\n",
       "      <td>0.069397</td>\n",
       "      <td>0.712891</td>\n",
       "      <td>0.113220</td>\n",
       "      <td>0.006207</td>\n",
       "      <td>0.353516</td>\n",
       "      <td>0.521484</td>\n",
       "      <td>0.223389</td>\n",
       "      <td>NaN</td>\n",
       "      <td>0.065247</td>\n",
       "      <td>0.057739</td>\n",
       "      <td>0.001614</td>\n",
       "      <td>0.149780</td>\n",
       "      <td>1.339844</td>\n",
       "      <td>0.008369</td>\n",
       "      <td>0.001984</td>\n",
       "      <td>0.202759</td>\n",
       "      <td>0.720703</td>\n",
       "      <td>0.099792</td>\n",
       "      <td>NaN</td>\n",
       "      <td>0.030594</td>\n",
       "      <td>0.002748</td>\n",
       "      <td>0.002481</td>\n",
       "      <td>1.008789</td>\n",
       "      <td>0.005135</td>\n",
       "      <td>0.140991</td>\n",
       "      <td>0.143555</td>\n",
       "      <td>0.919434</td>\n",
       "      <td>0.326660</td>\n",
       "      <td>0.156250</td>\n",
       "      <td>0.118713</td>\n",
       "      <td>0.001610</td>\n",
       "      <td>0.148438</td>\n",
       "      <td>0.093933</td>\n",
       "      <td>0.013039</td>\n",
       "      <td>0.065491</td>\n",
       "      <td>0.151367</td>\n",
       "      <td>0.265137</td>\n",
       "      <td>0.017685</td>\n",
       "      <td>0.406250</td>\n",
       "      <td>0.086792</td>\n",
       "      <td>0</td>\n",
       "      <td>1</td>\n",
       "      <td>0.002413</td>\n",
       "      <td>0.007149</td>\n",
       "      <td>NaN</td>\n",
       "      <td>0.646973</td>\n",
       "      <td>0.002237</td>\n",
       "      <td>-1</td>\n",
       "      <td>0.003880</td>\n",
       "      <td>6</td>\n",
       "      <td>0.188965</td>\n",
       "      <td>0.004028</td>\n",
       "      <td>0.509277</td>\n",
       "      <td>0.004192</td>\n",
       "      <td>0.007843</td>\n",
       "      <td>0.001283</td>\n",
       "      <td>0.006523</td>\n",
       "      <td>0.140625</td>\n",
       "      <td>0.000094</td>\n",
       "      <td>0.101013</td>\n",
       "      <td>0.040466</td>\n",
       "      <td>NaN</td>\n",
       "      <td>0.004833</td>\n",
       "      <td>0.081421</td>\n",
       "      <td>0.074158</td>\n",
       "      <td>NaN</td>\n",
       "      <td>0.004204</td>\n",
       "      <td>0.005302</td>\n",
       "      <td>NaN</td>\n",
       "      <td>0.001864</td>\n",
       "      <td>0.000978</td>\n",
       "      <td>0.009895</td>\n",
       "      <td>0.007599</td>\n",
       "      <td>0.000509</td>\n",
       "      <td>NaN</td>\n",
       "      <td>0.009811</td>\n",
       "      <td>0.000126</td>\n",
       "      <td>0.005966</td>\n",
       "      <td>0.000395</td>\n",
       "      <td>0.001327</td>\n",
       "      <td>0.007774</td>\n",
       "      <td>0.500977</td>\n",
       "      <td>0.000761</td>\n",
       "      <td>1.009766</td>\n",
       "      <td>0.081848</td>\n",
       "      <td>0.000347</td>\n",
       "      <td>0.007790</td>\n",
       "      <td>0.004311</td>\n",
       "      <td>0.002333</td>\n",
       "      <td>0.009468</td>\n",
       "      <td>0.003754</td>\n",
       "      <td>NaN</td>\n",
       "      <td>0</td>\n",
       "      <td>0.007584</td>\n",
       "      <td>0.006676</td>\n",
       "      <td>NaN</td>\n",
       "      <td>0.001143</td>\n",
       "      <td>0.005905</td>\n",
       "      <td>NaN</td>\n",
       "      <td>1.0</td>\n",
       "      <td>0.008430</td>\n",
       "      <td>0.008980</td>\n",
       "      <td>0.001854</td>\n",
       "      <td>0.009926</td>\n",
       "      <td>0.005989</td>\n",
       "      <td>0.002247</td>\n",
       "      <td>1.006836</td>\n",
       "      <td>0.002508</td>\n",
       "      <td>0.006828</td>\n",
       "      <td>0.002836</td>\n",
       "      <td>1.503906</td>\n",
       "      <td>1.005859</td>\n",
       "      <td>0.000571</td>\n",
       "      <td>0.000391</td>\n",
       "      <td>0.008354</td>\n",
       "      <td>0.008850</td>\n",
       "      <td>0.003180</td>\n",
       "      <td>0.902344</td>\n",
       "      <td>0.136353</td>\n",
       "      <td>0.919922</td>\n",
       "      <td>0.975586</td>\n",
       "      <td>0.004562</td>\n",
       "      <td>0.786133</td>\n",
       "      <td>1.000000</td>\n",
       "      <td>1.003906</td>\n",
       "      <td>0.906738</td>\n",
       "      <td>NaN</td>\n",
       "      <td>0.668457</td>\n",
       "      <td>0.003922</td>\n",
       "      <td>0.004654</td>\n",
       "      <td>NaN</td>\n",
       "      <td>1.002930</td>\n",
       "      <td>2</td>\n",
       "      <td>NaN</td>\n",
       "      <td>0.008705</td>\n",
       "      <td>NaN</td>\n",
       "      <td>NaN</td>\n",
       "      <td>NaN</td>\n",
       "      <td>1.007812</td>\n",
       "      <td>0.184082</td>\n",
       "      <td>0.822266</td>\n",
       "      <td>0.003445</td>\n",
       "      <td>1</td>\n",
       "      <td>0.247192</td>\n",
       "      <td>0</td>\n",
       "      <td>4</td>\n",
       "      <td>0.243530</td>\n",
       "      <td>0.241943</td>\n",
       "      <td>0</td>\n",
       "      <td>0.707031</td>\n",
       "      <td>0.430420</td>\n",
       "      <td>0.001306</td>\n",
       "      <td>0.686523</td>\n",
       "      <td>0.000755</td>\n",
       "      <td>1</td>\n",
       "      <td>1.008789</td>\n",
       "      <td>1.003906</td>\n",
       "      <td>1.008789</td>\n",
       "      <td>0.004406</td>\n",
       "      <td>NaN</td>\n",
       "      <td>0.001034</td>\n",
       "      <td>0.004837</td>\n",
       "      <td>NaN</td>\n",
       "      <td>0.007496</td>\n",
       "      <td>0.004932</td>\n",
       "      <td>NaN</td>\n",
       "      <td>NaN</td>\n",
       "      <td>NaN</td>\n",
       "      <td>NaN</td>\n",
       "      <td>NaN</td>\n",
       "      <td>0.003956</td>\n",
       "      <td>0.003166</td>\n",
       "      <td>0.005032</td>\n",
       "      <td>NaN</td>\n",
       "      <td>0.009575</td>\n",
       "      <td>0.005493</td>\n",
       "      <td>0.009216</td>\n",
       "    </tr>\n",
       "    <tr>\n",
       "      <th>2</th>\n",
       "      <td>0000099d6bd597052cdcda90ffabf56573fe9d7c79be5f...</td>\n",
       "      <td>2017-05-28</td>\n",
       "      <td>0.954102</td>\n",
       "      <td>0.091492</td>\n",
       "      <td>0.021652</td>\n",
       "      <td>1.009766</td>\n",
       "      <td>0.006817</td>\n",
       "      <td>0.123962</td>\n",
       "      <td>0.007599</td>\n",
       "      <td>0.009422</td>\n",
       "      <td>NaN</td>\n",
       "      <td>NaN</td>\n",
       "      <td>0.007607</td>\n",
       "      <td>0.068848</td>\n",
       "      <td>0.720703</td>\n",
       "      <td>0.060486</td>\n",
       "      <td>0.003260</td>\n",
       "      <td>0.334717</td>\n",
       "      <td>0.524414</td>\n",
       "      <td>0.189453</td>\n",
       "      <td>NaN</td>\n",
       "      <td>0.066956</td>\n",
       "      <td>0.056641</td>\n",
       "      <td>0.005127</td>\n",
       "      <td>0.151978</td>\n",
       "      <td>1.336914</td>\n",
       "      <td>0.009354</td>\n",
       "      <td>0.007427</td>\n",
       "      <td>0.206665</td>\n",
       "      <td>0.738281</td>\n",
       "      <td>0.134033</td>\n",
       "      <td>NaN</td>\n",
       "      <td>0.048370</td>\n",
       "      <td>0.010078</td>\n",
       "      <td>0.000530</td>\n",
       "      <td>1.008789</td>\n",
       "      <td>0.006962</td>\n",
       "      <td>0.112244</td>\n",
       "      <td>0.136963</td>\n",
       "      <td>1.001953</td>\n",
       "      <td>0.304199</td>\n",
       "      <td>0.153809</td>\n",
       "      <td>0.114563</td>\n",
       "      <td>0.006329</td>\n",
       "      <td>0.139526</td>\n",
       "      <td>0.084778</td>\n",
       "      <td>0.056641</td>\n",
       "      <td>0.070618</td>\n",
       "      <td>0.305908</td>\n",
       "      <td>0.212158</td>\n",
       "      <td>0.063965</td>\n",
       "      <td>0.406738</td>\n",
       "      <td>0.093994</td>\n",
       "      <td>0</td>\n",
       "      <td>1</td>\n",
       "      <td>0.001878</td>\n",
       "      <td>0.003637</td>\n",
       "      <td>NaN</td>\n",
       "      <td>0.645996</td>\n",
       "      <td>0.000408</td>\n",
       "      <td>-1</td>\n",
       "      <td>0.004578</td>\n",
       "      <td>6</td>\n",
       "      <td>0.495361</td>\n",
       "      <td>0.006840</td>\n",
       "      <td>0.679199</td>\n",
       "      <td>0.001336</td>\n",
       "      <td>0.006023</td>\n",
       "      <td>0.009392</td>\n",
       "      <td>0.002615</td>\n",
       "      <td>0.075867</td>\n",
       "      <td>0.007153</td>\n",
       "      <td>0.103210</td>\n",
       "      <td>0.047455</td>\n",
       "      <td>NaN</td>\n",
       "      <td>0.006561</td>\n",
       "      <td>0.078918</td>\n",
       "      <td>0.076538</td>\n",
       "      <td>NaN</td>\n",
       "      <td>0.001782</td>\n",
       "      <td>0.001422</td>\n",
       "      <td>NaN</td>\n",
       "      <td>0.005417</td>\n",
       "      <td>0.006149</td>\n",
       "      <td>0.009628</td>\n",
       "      <td>0.003094</td>\n",
       "      <td>0.008293</td>\n",
       "      <td>NaN</td>\n",
       "      <td>0.009361</td>\n",
       "      <td>0.000954</td>\n",
       "      <td>0.005447</td>\n",
       "      <td>0.007347</td>\n",
       "      <td>0.007626</td>\n",
       "      <td>0.008812</td>\n",
       "      <td>0.504395</td>\n",
       "      <td>0.004055</td>\n",
       "      <td>1.003906</td>\n",
       "      <td>0.081970</td>\n",
       "      <td>0.002710</td>\n",
       "      <td>0.004093</td>\n",
       "      <td>0.007141</td>\n",
       "      <td>0.008362</td>\n",
       "      <td>0.002325</td>\n",
       "      <td>0.007381</td>\n",
       "      <td>NaN</td>\n",
       "      <td>0</td>\n",
       "      <td>0.005901</td>\n",
       "      <td>0.001185</td>\n",
       "      <td>NaN</td>\n",
       "      <td>0.008011</td>\n",
       "      <td>0.008881</td>\n",
       "      <td>NaN</td>\n",
       "      <td>1.0</td>\n",
       "      <td>0.007328</td>\n",
       "      <td>0.002016</td>\n",
       "      <td>0.008690</td>\n",
       "      <td>0.008446</td>\n",
       "      <td>0.007290</td>\n",
       "      <td>0.007793</td>\n",
       "      <td>1.000977</td>\n",
       "      <td>0.009636</td>\n",
       "      <td>0.009819</td>\n",
       "      <td>0.005081</td>\n",
       "      <td>1.502930</td>\n",
       "      <td>1.005859</td>\n",
       "      <td>0.007427</td>\n",
       "      <td>0.009232</td>\n",
       "      <td>0.002472</td>\n",
       "      <td>0.009766</td>\n",
       "      <td>0.005432</td>\n",
       "      <td>0.939453</td>\n",
       "      <td>0.134888</td>\n",
       "      <td>0.958496</td>\n",
       "      <td>0.974121</td>\n",
       "      <td>0.011734</td>\n",
       "      <td>0.806641</td>\n",
       "      <td>1.002930</td>\n",
       "      <td>1.009766</td>\n",
       "      <td>0.928711</td>\n",
       "      <td>NaN</td>\n",
       "      <td>0.670898</td>\n",
       "      <td>0.001264</td>\n",
       "      <td>0.019180</td>\n",
       "      <td>NaN</td>\n",
       "      <td>1.000977</td>\n",
       "      <td>2</td>\n",
       "      <td>NaN</td>\n",
       "      <td>0.004093</td>\n",
       "      <td>NaN</td>\n",
       "      <td>NaN</td>\n",
       "      <td>NaN</td>\n",
       "      <td>1.003906</td>\n",
       "      <td>0.154785</td>\n",
       "      <td>0.853516</td>\n",
       "      <td>0.003269</td>\n",
       "      <td>1</td>\n",
       "      <td>0.239868</td>\n",
       "      <td>0</td>\n",
       "      <td>4</td>\n",
       "      <td>0.240723</td>\n",
       "      <td>0.239746</td>\n",
       "      <td>0</td>\n",
       "      <td>0.705078</td>\n",
       "      <td>0.434326</td>\n",
       "      <td>0.003956</td>\n",
       "      <td>0.689941</td>\n",
       "      <td>0.009621</td>\n",
       "      <td>1</td>\n",
       "      <td>1.009766</td>\n",
       "      <td>1.007812</td>\n",
       "      <td>1.006836</td>\n",
       "      <td>0.003222</td>\n",
       "      <td>NaN</td>\n",
       "      <td>0.005680</td>\n",
       "      <td>0.005497</td>\n",
       "      <td>NaN</td>\n",
       "      <td>0.009224</td>\n",
       "      <td>0.009125</td>\n",
       "      <td>NaN</td>\n",
       "      <td>NaN</td>\n",
       "      <td>NaN</td>\n",
       "      <td>NaN</td>\n",
       "      <td>NaN</td>\n",
       "      <td>0.003269</td>\n",
       "      <td>0.007328</td>\n",
       "      <td>0.000427</td>\n",
       "      <td>NaN</td>\n",
       "      <td>0.003429</td>\n",
       "      <td>0.006985</td>\n",
       "      <td>0.002604</td>\n",
       "    </tr>\n",
       "    <tr>\n",
       "      <th>3</th>\n",
       "      <td>0000099d6bd597052cdcda90ffabf56573fe9d7c79be5f...</td>\n",
       "      <td>2017-06-13</td>\n",
       "      <td>0.960449</td>\n",
       "      <td>0.002455</td>\n",
       "      <td>0.013687</td>\n",
       "      <td>1.002930</td>\n",
       "      <td>0.001372</td>\n",
       "      <td>0.117188</td>\n",
       "      <td>0.000685</td>\n",
       "      <td>0.005531</td>\n",
       "      <td>NaN</td>\n",
       "      <td>NaN</td>\n",
       "      <td>0.006405</td>\n",
       "      <td>0.055634</td>\n",
       "      <td>0.724121</td>\n",
       "      <td>0.166748</td>\n",
       "      <td>0.009918</td>\n",
       "      <td>0.323242</td>\n",
       "      <td>0.530762</td>\n",
       "      <td>0.135620</td>\n",
       "      <td>NaN</td>\n",
       "      <td>0.083740</td>\n",
       "      <td>0.049255</td>\n",
       "      <td>0.001417</td>\n",
       "      <td>0.151245</td>\n",
       "      <td>1.339844</td>\n",
       "      <td>0.006783</td>\n",
       "      <td>0.003515</td>\n",
       "      <td>0.208252</td>\n",
       "      <td>0.741699</td>\n",
       "      <td>0.134399</td>\n",
       "      <td>NaN</td>\n",
       "      <td>0.030060</td>\n",
       "      <td>0.009666</td>\n",
       "      <td>0.000783</td>\n",
       "      <td>1.007812</td>\n",
       "      <td>0.008705</td>\n",
       "      <td>0.102844</td>\n",
       "      <td>0.129028</td>\n",
       "      <td>0.704102</td>\n",
       "      <td>0.275146</td>\n",
       "      <td>0.155762</td>\n",
       "      <td>0.120728</td>\n",
       "      <td>0.004978</td>\n",
       "      <td>0.138062</td>\n",
       "      <td>0.048370</td>\n",
       "      <td>0.012497</td>\n",
       "      <td>0.065918</td>\n",
       "      <td>0.273438</td>\n",
       "      <td>0.204346</td>\n",
       "      <td>0.022736</td>\n",
       "      <td>0.405273</td>\n",
       "      <td>0.094849</td>\n",
       "      <td>0</td>\n",
       "      <td>1</td>\n",
       "      <td>0.005898</td>\n",
       "      <td>0.005894</td>\n",
       "      <td>NaN</td>\n",
       "      <td>0.654297</td>\n",
       "      <td>0.005898</td>\n",
       "      <td>-1</td>\n",
       "      <td>0.005207</td>\n",
       "      <td>6</td>\n",
       "      <td>0.508789</td>\n",
       "      <td>0.008186</td>\n",
       "      <td>0.515137</td>\n",
       "      <td>0.008713</td>\n",
       "      <td>0.005272</td>\n",
       "      <td>0.004555</td>\n",
       "      <td>0.002052</td>\n",
       "      <td>0.150269</td>\n",
       "      <td>0.005363</td>\n",
       "      <td>0.206421</td>\n",
       "      <td>0.031708</td>\n",
       "      <td>NaN</td>\n",
       "      <td>0.009560</td>\n",
       "      <td>0.077515</td>\n",
       "      <td>0.071533</td>\n",
       "      <td>NaN</td>\n",
       "      <td>0.005596</td>\n",
       "      <td>0.006363</td>\n",
       "      <td>NaN</td>\n",
       "      <td>0.000646</td>\n",
       "      <td>0.009193</td>\n",
       "      <td>0.008568</td>\n",
       "      <td>0.003895</td>\n",
       "      <td>0.005154</td>\n",
       "      <td>NaN</td>\n",
       "      <td>0.004875</td>\n",
       "      <td>0.005665</td>\n",
       "      <td>0.001888</td>\n",
       "      <td>0.004963</td>\n",
       "      <td>0.000034</td>\n",
       "      <td>0.004650</td>\n",
       "      <td>0.508789</td>\n",
       "      <td>0.006969</td>\n",
       "      <td>1.004883</td>\n",
       "      <td>0.060638</td>\n",
       "      <td>0.009979</td>\n",
       "      <td>0.008820</td>\n",
       "      <td>0.008690</td>\n",
       "      <td>0.007362</td>\n",
       "      <td>0.005924</td>\n",
       "      <td>0.008804</td>\n",
       "      <td>NaN</td>\n",
       "      <td>0</td>\n",
       "      <td>0.002520</td>\n",
       "      <td>0.003325</td>\n",
       "      <td>NaN</td>\n",
       "      <td>0.009453</td>\n",
       "      <td>0.008347</td>\n",
       "      <td>NaN</td>\n",
       "      <td>1.0</td>\n",
       "      <td>0.007053</td>\n",
       "      <td>0.003910</td>\n",
       "      <td>0.002478</td>\n",
       "      <td>0.006615</td>\n",
       "      <td>0.009979</td>\n",
       "      <td>0.007687</td>\n",
       "      <td>1.002930</td>\n",
       "      <td>0.007790</td>\n",
       "      <td>0.000458</td>\n",
       "      <td>0.007320</td>\n",
       "      <td>1.503906</td>\n",
       "      <td>1.006836</td>\n",
       "      <td>0.000664</td>\n",
       "      <td>0.003201</td>\n",
       "      <td>0.008507</td>\n",
       "      <td>0.004856</td>\n",
       "      <td>0.000063</td>\n",
       "      <td>0.913086</td>\n",
       "      <td>0.140015</td>\n",
       "      <td>0.926270</td>\n",
       "      <td>0.975586</td>\n",
       "      <td>0.007572</td>\n",
       "      <td>0.808105</td>\n",
       "      <td>1.001953</td>\n",
       "      <td>1.004883</td>\n",
       "      <td>0.935547</td>\n",
       "      <td>NaN</td>\n",
       "      <td>0.672852</td>\n",
       "      <td>0.002729</td>\n",
       "      <td>0.011719</td>\n",
       "      <td>NaN</td>\n",
       "      <td>1.004883</td>\n",
       "      <td>2</td>\n",
       "      <td>NaN</td>\n",
       "      <td>0.009705</td>\n",
       "      <td>NaN</td>\n",
       "      <td>NaN</td>\n",
       "      <td>NaN</td>\n",
       "      <td>1.002930</td>\n",
       "      <td>0.153931</td>\n",
       "      <td>0.844727</td>\n",
       "      <td>0.000053</td>\n",
       "      <td>1</td>\n",
       "      <td>0.240967</td>\n",
       "      <td>0</td>\n",
       "      <td>4</td>\n",
       "      <td>0.239380</td>\n",
       "      <td>0.240723</td>\n",
       "      <td>0</td>\n",
       "      <td>0.711426</td>\n",
       "      <td>0.437012</td>\n",
       "      <td>0.005135</td>\n",
       "      <td>0.687988</td>\n",
       "      <td>0.004650</td>\n",
       "      <td>1</td>\n",
       "      <td>1.001953</td>\n",
       "      <td>1.003906</td>\n",
       "      <td>1.007812</td>\n",
       "      <td>0.007702</td>\n",
       "      <td>NaN</td>\n",
       "      <td>0.007107</td>\n",
       "      <td>0.008263</td>\n",
       "      <td>NaN</td>\n",
       "      <td>0.007206</td>\n",
       "      <td>0.002409</td>\n",
       "      <td>NaN</td>\n",
       "      <td>NaN</td>\n",
       "      <td>NaN</td>\n",
       "      <td>NaN</td>\n",
       "      <td>NaN</td>\n",
       "      <td>0.006119</td>\n",
       "      <td>0.004517</td>\n",
       "      <td>0.003201</td>\n",
       "      <td>NaN</td>\n",
       "      <td>0.008423</td>\n",
       "      <td>0.006527</td>\n",
       "      <td>0.009598</td>\n",
       "    </tr>\n",
       "    <tr>\n",
       "      <th>4</th>\n",
       "      <td>0000099d6bd597052cdcda90ffabf56573fe9d7c79be5f...</td>\n",
       "      <td>2017-07-16</td>\n",
       "      <td>0.947266</td>\n",
       "      <td>0.002483</td>\n",
       "      <td>0.015190</td>\n",
       "      <td>1.000977</td>\n",
       "      <td>0.007607</td>\n",
       "      <td>0.117310</td>\n",
       "      <td>0.004654</td>\n",
       "      <td>0.009308</td>\n",
       "      <td>NaN</td>\n",
       "      <td>NaN</td>\n",
       "      <td>0.007732</td>\n",
       "      <td>0.038849</td>\n",
       "      <td>0.720703</td>\n",
       "      <td>0.143677</td>\n",
       "      <td>0.006668</td>\n",
       "      <td>0.230957</td>\n",
       "      <td>0.529297</td>\n",
       "      <td>NaN</td>\n",
       "      <td>NaN</td>\n",
       "      <td>0.075928</td>\n",
       "      <td>0.048920</td>\n",
       "      <td>0.001199</td>\n",
       "      <td>0.154053</td>\n",
       "      <td>1.341797</td>\n",
       "      <td>0.000519</td>\n",
       "      <td>0.001362</td>\n",
       "      <td>0.205444</td>\n",
       "      <td>0.691895</td>\n",
       "      <td>0.121521</td>\n",
       "      <td>NaN</td>\n",
       "      <td>0.054230</td>\n",
       "      <td>0.009483</td>\n",
       "      <td>0.006699</td>\n",
       "      <td>1.003906</td>\n",
       "      <td>0.003845</td>\n",
       "      <td>0.094299</td>\n",
       "      <td>0.129517</td>\n",
       "      <td>0.916992</td>\n",
       "      <td>0.231079</td>\n",
       "      <td>0.154907</td>\n",
       "      <td>0.095154</td>\n",
       "      <td>0.001654</td>\n",
       "      <td>0.126465</td>\n",
       "      <td>0.039246</td>\n",
       "      <td>0.027893</td>\n",
       "      <td>0.063721</td>\n",
       "      <td>0.233154</td>\n",
       "      <td>0.175659</td>\n",
       "      <td>0.031174</td>\n",
       "      <td>0.487549</td>\n",
       "      <td>0.093933</td>\n",
       "      <td>0</td>\n",
       "      <td>1</td>\n",
       "      <td>0.009476</td>\n",
       "      <td>0.001715</td>\n",
       "      <td>NaN</td>\n",
       "      <td>0.649902</td>\n",
       "      <td>0.007774</td>\n",
       "      <td>-1</td>\n",
       "      <td>0.005852</td>\n",
       "      <td>6</td>\n",
       "      <td>0.216553</td>\n",
       "      <td>0.008606</td>\n",
       "      <td>0.507812</td>\n",
       "      <td>0.006821</td>\n",
       "      <td>0.000152</td>\n",
       "      <td>0.000104</td>\n",
       "      <td>0.001419</td>\n",
       "      <td>0.096436</td>\n",
       "      <td>0.007973</td>\n",
       "      <td>0.106018</td>\n",
       "      <td>0.032745</td>\n",
       "      <td>NaN</td>\n",
       "      <td>0.008156</td>\n",
       "      <td>0.076538</td>\n",
       "      <td>0.074463</td>\n",
       "      <td>NaN</td>\n",
       "      <td>0.004932</td>\n",
       "      <td>0.004829</td>\n",
       "      <td>NaN</td>\n",
       "      <td>0.001833</td>\n",
       "      <td>0.005737</td>\n",
       "      <td>0.003288</td>\n",
       "      <td>0.002607</td>\n",
       "      <td>0.007339</td>\n",
       "      <td>NaN</td>\n",
       "      <td>0.007446</td>\n",
       "      <td>0.004463</td>\n",
       "      <td>0.006111</td>\n",
       "      <td>0.002247</td>\n",
       "      <td>0.002110</td>\n",
       "      <td>0.001141</td>\n",
       "      <td>0.506348</td>\n",
       "      <td>0.001770</td>\n",
       "      <td>1.000977</td>\n",
       "      <td>0.062500</td>\n",
       "      <td>0.005859</td>\n",
       "      <td>0.001844</td>\n",
       "      <td>0.007812</td>\n",
       "      <td>0.002470</td>\n",
       "      <td>0.005516</td>\n",
       "      <td>0.007168</td>\n",
       "      <td>NaN</td>\n",
       "      <td>0</td>\n",
       "      <td>0.000155</td>\n",
       "      <td>0.001504</td>\n",
       "      <td>NaN</td>\n",
       "      <td>0.002018</td>\n",
       "      <td>0.002678</td>\n",
       "      <td>NaN</td>\n",
       "      <td>1.0</td>\n",
       "      <td>0.007729</td>\n",
       "      <td>0.003431</td>\n",
       "      <td>0.002199</td>\n",
       "      <td>0.005512</td>\n",
       "      <td>0.004105</td>\n",
       "      <td>0.009659</td>\n",
       "      <td>1.006836</td>\n",
       "      <td>0.005157</td>\n",
       "      <td>0.003342</td>\n",
       "      <td>0.000264</td>\n",
       "      <td>1.509766</td>\n",
       "      <td>1.002930</td>\n",
       "      <td>0.003078</td>\n",
       "      <td>0.003845</td>\n",
       "      <td>0.007191</td>\n",
       "      <td>0.002983</td>\n",
       "      <td>0.000535</td>\n",
       "      <td>0.920898</td>\n",
       "      <td>0.131592</td>\n",
       "      <td>0.933594</td>\n",
       "      <td>0.978027</td>\n",
       "      <td>0.018204</td>\n",
       "      <td>0.822266</td>\n",
       "      <td>1.005859</td>\n",
       "      <td>1.005859</td>\n",
       "      <td>0.953125</td>\n",
       "      <td>NaN</td>\n",
       "      <td>0.673828</td>\n",
       "      <td>0.009995</td>\n",
       "      <td>0.017593</td>\n",
       "      <td>NaN</td>\n",
       "      <td>1.002930</td>\n",
       "      <td>2</td>\n",
       "      <td>NaN</td>\n",
       "      <td>0.009117</td>\n",
       "      <td>NaN</td>\n",
       "      <td>NaN</td>\n",
       "      <td>NaN</td>\n",
       "      <td>1.000000</td>\n",
       "      <td>0.120728</td>\n",
       "      <td>0.811035</td>\n",
       "      <td>0.008720</td>\n",
       "      <td>1</td>\n",
       "      <td>0.247925</td>\n",
       "      <td>0</td>\n",
       "      <td>4</td>\n",
       "      <td>0.244141</td>\n",
       "      <td>0.242310</td>\n",
       "      <td>0</td>\n",
       "      <td>0.705566</td>\n",
       "      <td>0.437500</td>\n",
       "      <td>0.002850</td>\n",
       "      <td>0.688965</td>\n",
       "      <td>0.000097</td>\n",
       "      <td>1</td>\n",
       "      <td>1.009766</td>\n",
       "      <td>1.004883</td>\n",
       "      <td>1.007812</td>\n",
       "      <td>0.009827</td>\n",
       "      <td>NaN</td>\n",
       "      <td>0.009682</td>\n",
       "      <td>0.004848</td>\n",
       "      <td>NaN</td>\n",
       "      <td>0.006313</td>\n",
       "      <td>0.004463</td>\n",
       "      <td>NaN</td>\n",
       "      <td>NaN</td>\n",
       "      <td>NaN</td>\n",
       "      <td>NaN</td>\n",
       "      <td>NaN</td>\n",
       "      <td>0.003672</td>\n",
       "      <td>0.004944</td>\n",
       "      <td>0.008888</td>\n",
       "      <td>NaN</td>\n",
       "      <td>0.001670</td>\n",
       "      <td>0.008125</td>\n",
       "      <td>0.009827</td>\n",
       "    </tr>\n",
       "  </tbody>\n",
       "</table>\n",
       "</div>"
      ],
      "text/plain": [
       "                                         customer_ID         S_2       P_2  \\\n",
       "0  0000099d6bd597052cdcda90ffabf56573fe9d7c79be5f...  2017-03-09  0.938477   \n",
       "1  0000099d6bd597052cdcda90ffabf56573fe9d7c79be5f...  2017-04-07  0.936523   \n",
       "2  0000099d6bd597052cdcda90ffabf56573fe9d7c79be5f...  2017-05-28  0.954102   \n",
       "3  0000099d6bd597052cdcda90ffabf56573fe9d7c79be5f...  2017-06-13  0.960449   \n",
       "4  0000099d6bd597052cdcda90ffabf56573fe9d7c79be5f...  2017-07-16  0.947266   \n",
       "\n",
       "       D_39       B_1       B_2       R_1       S_3      D_41       B_3  D_42  \\\n",
       "0  0.001734  0.008728  1.006836  0.009224  0.124023  0.008774  0.004707   NaN   \n",
       "1  0.005775  0.004925  1.000977  0.006153  0.126709  0.000798  0.002714   NaN   \n",
       "2  0.091492  0.021652  1.009766  0.006817  0.123962  0.007599  0.009422   NaN   \n",
       "3  0.002455  0.013687  1.002930  0.001372  0.117188  0.000685  0.005531   NaN   \n",
       "4  0.002483  0.015190  1.000977  0.007607  0.117310  0.004654  0.009308   NaN   \n",
       "\n",
       "   D_43      D_44       B_4      D_45       B_5       R_2      D_46      D_47  \\\n",
       "0   NaN  0.000630  0.080994  0.708984  0.170654  0.006203  0.358643  0.525391   \n",
       "1   NaN  0.002525  0.069397  0.712891  0.113220  0.006207  0.353516  0.521484   \n",
       "2   NaN  0.007607  0.068848  0.720703  0.060486  0.003260  0.334717  0.524414   \n",
       "3   NaN  0.006405  0.055634  0.724121  0.166748  0.009918  0.323242  0.530762   \n",
       "4   NaN  0.007732  0.038849  0.720703  0.143677  0.006668  0.230957  0.529297   \n",
       "\n",
       "       D_48  D_49       B_6       B_7       B_8      D_50      D_51       B_9  \\\n",
       "0  0.255615   NaN  0.063904  0.059418  0.006466  0.148682  1.335938  0.008209   \n",
       "1  0.223389   NaN  0.065247  0.057739  0.001614  0.149780  1.339844  0.008369   \n",
       "2  0.189453   NaN  0.066956  0.056641  0.005127  0.151978  1.336914  0.009354   \n",
       "3  0.135620   NaN  0.083740  0.049255  0.001417  0.151245  1.339844  0.006783   \n",
       "4       NaN   NaN  0.075928  0.048920  0.001199  0.154053  1.341797  0.000519   \n",
       "\n",
       "        R_3      D_52       P_3      B_10  D_53       S_5      B_11       S_6  \\\n",
       "0  0.001423  0.207275  0.736328  0.096191   NaN  0.023376  0.002768  0.008324   \n",
       "1  0.001984  0.202759  0.720703  0.099792   NaN  0.030594  0.002748  0.002481   \n",
       "2  0.007427  0.206665  0.738281  0.134033   NaN  0.048370  0.010078  0.000530   \n",
       "3  0.003515  0.208252  0.741699  0.134399   NaN  0.030060  0.009666  0.000783   \n",
       "4  0.001362  0.205444  0.691895  0.121521   NaN  0.054230  0.009483  0.006699   \n",
       "\n",
       "       D_54       R_4       S_7      B_12       S_8      D_55      D_56  \\\n",
       "0  1.001953  0.008301  0.161377  0.148315  0.922852  0.354492  0.151978   \n",
       "1  1.008789  0.005135  0.140991  0.143555  0.919434  0.326660  0.156250   \n",
       "2  1.008789  0.006962  0.112244  0.136963  1.001953  0.304199  0.153809   \n",
       "3  1.007812  0.008705  0.102844  0.129028  0.704102  0.275146  0.155762   \n",
       "4  1.003906  0.003845  0.094299  0.129517  0.916992  0.231079  0.154907   \n",
       "\n",
       "       B_13       R_5      D_58       S_9      B_14      D_59      D_60  \\\n",
       "0  0.118103  0.001882  0.158569  0.065735  0.018387  0.063660  0.199585   \n",
       "1  0.118713  0.001610  0.148438  0.093933  0.013039  0.065491  0.151367   \n",
       "2  0.114563  0.006329  0.139526  0.084778  0.056641  0.070618  0.305908   \n",
       "3  0.120728  0.004978  0.138062  0.048370  0.012497  0.065918  0.273438   \n",
       "4  0.095154  0.001654  0.126465  0.039246  0.027893  0.063721  0.233154   \n",
       "\n",
       "       D_61      B_15      S_11      D_62  D_63  D_64      D_65      B_16  \\\n",
       "0  0.308350  0.016357  0.401611  0.091064     0     1  0.007126  0.007664   \n",
       "1  0.265137  0.017685  0.406250  0.086792     0     1  0.002413  0.007149   \n",
       "2  0.212158  0.063965  0.406738  0.093994     0     1  0.001878  0.003637   \n",
       "3  0.204346  0.022736  0.405273  0.094849     0     1  0.005898  0.005894   \n",
       "4  0.175659  0.031174  0.487549  0.093933     0     1  0.009476  0.001715   \n",
       "\n",
       "   B_17      B_18      B_19  D_66      B_20  D_68      S_12       R_6  \\\n",
       "0   NaN  0.652832  0.008522    -1  0.004730     6  0.271973  0.008362   \n",
       "1   NaN  0.646973  0.002237    -1  0.003880     6  0.188965  0.004028   \n",
       "2   NaN  0.645996  0.000408    -1  0.004578     6  0.495361  0.006840   \n",
       "3   NaN  0.654297  0.005898    -1  0.005207     6  0.508789  0.008186   \n",
       "4   NaN  0.649902  0.007774    -1  0.005852     6  0.216553  0.008606   \n",
       "\n",
       "       S_13      B_21      D_69      B_22      D_70      D_71      D_72  \\\n",
       "0  0.515137  0.002644  0.009010  0.004807  0.008339  0.119385  0.004803   \n",
       "1  0.509277  0.004192  0.007843  0.001283  0.006523  0.140625  0.000094   \n",
       "2  0.679199  0.001336  0.006023  0.009392  0.002615  0.075867  0.007153   \n",
       "3  0.515137  0.008713  0.005272  0.004555  0.002052  0.150269  0.005363   \n",
       "4  0.507812  0.006821  0.000152  0.000104  0.001419  0.096436  0.007973   \n",
       "\n",
       "       S_15      B_23  D_73       P_4      D_74      D_75  D_76      B_24  \\\n",
       "0  0.108276  0.050873   NaN  0.007553  0.080444  0.069092   NaN  0.004326   \n",
       "1  0.101013  0.040466   NaN  0.004833  0.081421  0.074158   NaN  0.004204   \n",
       "2  0.103210  0.047455   NaN  0.006561  0.078918  0.076538   NaN  0.001782   \n",
       "3  0.206421  0.031708   NaN  0.009560  0.077515  0.071533   NaN  0.005596   \n",
       "4  0.106018  0.032745   NaN  0.008156  0.076538  0.074463   NaN  0.004932   \n",
       "\n",
       "        R_7  D_77      B_25      B_26      D_78      D_79       R_8  R_9  \\\n",
       "0  0.007561   NaN  0.007729  0.000272  0.001575  0.004238  0.001434  NaN   \n",
       "1  0.005302   NaN  0.001864  0.000978  0.009895  0.007599  0.000509  NaN   \n",
       "2  0.001422   NaN  0.005417  0.006149  0.009628  0.003094  0.008293  NaN   \n",
       "3  0.006363   NaN  0.000646  0.009193  0.008568  0.003895  0.005154  NaN   \n",
       "4  0.004829   NaN  0.001833  0.005737  0.003288  0.002607  0.007339  NaN   \n",
       "\n",
       "       S_16      D_80      R_10      R_11      B_27      D_81      D_82  \\\n",
       "0  0.002272  0.004059  0.007122  0.002457  0.002310  0.003532  0.506836   \n",
       "1  0.009811  0.000126  0.005966  0.000395  0.001327  0.007774  0.500977   \n",
       "2  0.009361  0.000954  0.005447  0.007347  0.007626  0.008812  0.504395   \n",
       "3  0.004875  0.005665  0.001888  0.004963  0.000034  0.004650  0.508789   \n",
       "4  0.007446  0.004463  0.006111  0.002247  0.002110  0.001141  0.506348   \n",
       "\n",
       "       S_17      R_12      B_28      R_13      D_83      R_14      R_15  \\\n",
       "0  0.008034  1.009766  0.084656  0.003820  0.007042  0.000438  0.006451   \n",
       "1  0.000761  1.009766  0.081848  0.000347  0.007790  0.004311  0.002333   \n",
       "2  0.004055  1.003906  0.081970  0.002710  0.004093  0.007141  0.008362   \n",
       "3  0.006969  1.004883  0.060638  0.009979  0.008820  0.008690  0.007362   \n",
       "4  0.001770  1.000977  0.062500  0.005859  0.001844  0.007812  0.002470   \n",
       "\n",
       "       D_84      R_16  B_29  B_30      S_18      D_86  D_87      R_17  \\\n",
       "0  0.000830  0.005054   NaN     0  0.005722  0.007084   NaN  0.000198   \n",
       "1  0.009468  0.003754   NaN     0  0.007584  0.006676   NaN  0.001143   \n",
       "2  0.002325  0.007381   NaN     0  0.005901  0.001185   NaN  0.008011   \n",
       "3  0.005924  0.008804   NaN     0  0.002520  0.003325   NaN  0.009453   \n",
       "4  0.005516  0.007168   NaN     0  0.000155  0.001504   NaN  0.002018   \n",
       "\n",
       "       R_18  D_88  B_31      S_19      R_19      B_32      S_20      R_20  \\\n",
       "0  0.008911   NaN   1.0  0.002537  0.005177  0.006626  0.009705  0.007782   \n",
       "1  0.005905   NaN   1.0  0.008430  0.008980  0.001854  0.009926  0.005989   \n",
       "2  0.008881   NaN   1.0  0.007328  0.002016  0.008690  0.008446  0.007290   \n",
       "3  0.008347   NaN   1.0  0.007053  0.003910  0.002478  0.006615  0.009979   \n",
       "4  0.002678   NaN   1.0  0.007729  0.003431  0.002199  0.005512  0.004105   \n",
       "\n",
       "       R_21      B_33      D_89      R_22      R_23      D_91      D_92  \\\n",
       "0  0.002449  1.000977  0.002665  0.007481  0.006893  1.503906  1.005859   \n",
       "1  0.002247  1.006836  0.002508  0.006828  0.002836  1.503906  1.005859   \n",
       "2  0.007793  1.000977  0.009636  0.009819  0.005081  1.502930  1.005859   \n",
       "3  0.007687  1.002930  0.007790  0.000458  0.007320  1.503906  1.006836   \n",
       "4  0.009659  1.006836  0.005157  0.003342  0.000264  1.509766  1.002930   \n",
       "\n",
       "       D_93      D_94      R_24      R_25      D_96      S_22      S_23  \\\n",
       "0  0.003569  0.008873  0.003948  0.003647  0.004951  0.894043  0.135620   \n",
       "1  0.000571  0.000391  0.008354  0.008850  0.003180  0.902344  0.136353   \n",
       "2  0.007427  0.009232  0.002472  0.009766  0.005432  0.939453  0.134888   \n",
       "3  0.000664  0.003201  0.008507  0.004856  0.000063  0.913086  0.140015   \n",
       "4  0.003078  0.003845  0.007191  0.002983  0.000535  0.920898  0.131592   \n",
       "\n",
       "       S_24      S_25      S_26     D_102     D_103     D_104     D_105  \\\n",
       "0  0.911133  0.974609  0.001244  0.766602  1.008789  1.004883  0.893555   \n",
       "1  0.919922  0.975586  0.004562  0.786133  1.000000  1.003906  0.906738   \n",
       "2  0.958496  0.974121  0.011734  0.806641  1.002930  1.009766  0.928711   \n",
       "3  0.926270  0.975586  0.007572  0.808105  1.001953  1.004883  0.935547   \n",
       "4  0.933594  0.978027  0.018204  0.822266  1.005859  1.005859  0.953125   \n",
       "\n",
       "   D_106     D_107      B_36      B_37  R_26      R_27  B_38  D_108     D_109  \\\n",
       "0    NaN  0.669922  0.009972  0.004570   NaN  1.008789     2    NaN  0.004326   \n",
       "1    NaN  0.668457  0.003922  0.004654   NaN  1.002930     2    NaN  0.008705   \n",
       "2    NaN  0.670898  0.001264  0.019180   NaN  1.000977     2    NaN  0.004093   \n",
       "3    NaN  0.672852  0.002729  0.011719   NaN  1.004883     2    NaN  0.009705   \n",
       "4    NaN  0.673828  0.009995  0.017593   NaN  1.002930     2    NaN  0.009117   \n",
       "\n",
       "   D_110  D_111  B_39     D_112      B_40      S_27     D_113  D_114  \\\n",
       "0    NaN    NaN   NaN  1.007812  0.210083  0.676758  0.007874      1   \n",
       "1    NaN    NaN   NaN  1.007812  0.184082  0.822266  0.003445      1   \n",
       "2    NaN    NaN   NaN  1.003906  0.154785  0.853516  0.003269      1   \n",
       "3    NaN    NaN   NaN  1.002930  0.153931  0.844727  0.000053      1   \n",
       "4    NaN    NaN   NaN  1.000000  0.120728  0.811035  0.008720      1   \n",
       "\n",
       "      D_115  D_116  D_117     D_118     D_119  D_120     D_121     D_122  \\\n",
       "0  0.238281      0      4  0.232178  0.236206      0  0.702148  0.434326   \n",
       "1  0.247192      0      4  0.243530  0.241943      0  0.707031  0.430420   \n",
       "2  0.239868      0      4  0.240723  0.239746      0  0.705078  0.434326   \n",
       "3  0.240967      0      4  0.239380  0.240723      0  0.711426  0.437012   \n",
       "4  0.247925      0      4  0.244141  0.242310      0  0.705566  0.437500   \n",
       "\n",
       "      D_123     D_124     D_125  D_126     D_127     D_128     D_129  \\\n",
       "0  0.003057  0.686523  0.008743      1  1.002930  1.007812  1.000000   \n",
       "1  0.001306  0.686523  0.000755      1  1.008789  1.003906  1.008789   \n",
       "2  0.003956  0.689941  0.009621      1  1.009766  1.007812  1.006836   \n",
       "3  0.005135  0.687988  0.004650      1  1.001953  1.003906  1.007812   \n",
       "4  0.002850  0.688965  0.000097      1  1.009766  1.004883  1.007812   \n",
       "\n",
       "       B_41  B_42     D_130     D_131  D_132     D_133      R_28  D_134  \\\n",
       "0  0.006805   NaN  0.002052  0.005970    NaN  0.004345  0.001534    NaN   \n",
       "1  0.004406   NaN  0.001034  0.004837    NaN  0.007496  0.004932    NaN   \n",
       "2  0.003222   NaN  0.005680  0.005497    NaN  0.009224  0.009125    NaN   \n",
       "3  0.007702   NaN  0.007107  0.008263    NaN  0.007206  0.002409    NaN   \n",
       "4  0.009827   NaN  0.009682  0.004848    NaN  0.006313  0.004463    NaN   \n",
       "\n",
       "   D_135  D_136  D_137  D_138     D_139     D_140     D_141  D_142     D_143  \\\n",
       "0    NaN    NaN    NaN    NaN  0.002426  0.003706  0.003819    NaN  0.000569   \n",
       "1    NaN    NaN    NaN    NaN  0.003956  0.003166  0.005032    NaN  0.009575   \n",
       "2    NaN    NaN    NaN    NaN  0.003269  0.007328  0.000427    NaN  0.003429   \n",
       "3    NaN    NaN    NaN    NaN  0.006119  0.004517  0.003201    NaN  0.008423   \n",
       "4    NaN    NaN    NaN    NaN  0.003672  0.004944  0.008888    NaN  0.001670   \n",
       "\n",
       "      D_144     D_145  \n",
       "0  0.000610  0.002674  \n",
       "1  0.005493  0.009216  \n",
       "2  0.006985  0.002604  \n",
       "3  0.006527  0.009598  \n",
       "4  0.008125  0.009827  "
      ]
     },
     "execution_count": 3,
     "metadata": {},
     "output_type": "execute_result"
    }
   ],
   "source": [
    "train_dataframe.head()  "
   ]
  },
  {
   "cell_type": "code",
   "execution_count": 4,
   "id": "741eb505",
   "metadata": {},
   "outputs": [
    {
     "data": {
      "text/html": [
       "<div>\n",
       "<style scoped>\n",
       "    .dataframe tbody tr th:only-of-type {\n",
       "        vertical-align: middle;\n",
       "    }\n",
       "\n",
       "    .dataframe tbody tr th {\n",
       "        vertical-align: top;\n",
       "    }\n",
       "\n",
       "    .dataframe thead th {\n",
       "        text-align: right;\n",
       "    }\n",
       "</style>\n",
       "<table border=\"1\" class=\"dataframe\">\n",
       "  <thead>\n",
       "    <tr style=\"text-align: right;\">\n",
       "      <th></th>\n",
       "      <th>customer_ID</th>\n",
       "      <th>target</th>\n",
       "    </tr>\n",
       "  </thead>\n",
       "  <tbody>\n",
       "    <tr>\n",
       "      <th>0</th>\n",
       "      <td>0000099d6bd597052cdcda90ffabf56573fe9d7c79be5f...</td>\n",
       "      <td>0</td>\n",
       "    </tr>\n",
       "    <tr>\n",
       "      <th>1</th>\n",
       "      <td>00000fd6641609c6ece5454664794f0340ad84dddce9a2...</td>\n",
       "      <td>0</td>\n",
       "    </tr>\n",
       "    <tr>\n",
       "      <th>2</th>\n",
       "      <td>00001b22f846c82c51f6e3958ccd81970162bae8b007e8...</td>\n",
       "      <td>0</td>\n",
       "    </tr>\n",
       "    <tr>\n",
       "      <th>3</th>\n",
       "      <td>000041bdba6ecadd89a52d11886e8eaaec9325906c9723...</td>\n",
       "      <td>0</td>\n",
       "    </tr>\n",
       "    <tr>\n",
       "      <th>4</th>\n",
       "      <td>00007889e4fcd2614b6cbe7f8f3d2e5c728eca32d9eb8a...</td>\n",
       "      <td>0</td>\n",
       "    </tr>\n",
       "  </tbody>\n",
       "</table>\n",
       "</div>"
      ],
      "text/plain": [
       "                                         customer_ID  target\n",
       "0  0000099d6bd597052cdcda90ffabf56573fe9d7c79be5f...       0\n",
       "1  00000fd6641609c6ece5454664794f0340ad84dddce9a2...       0\n",
       "2  00001b22f846c82c51f6e3958ccd81970162bae8b007e8...       0\n",
       "3  000041bdba6ecadd89a52d11886e8eaaec9325906c9723...       0\n",
       "4  00007889e4fcd2614b6cbe7f8f3d2e5c728eca32d9eb8a...       0"
      ]
     },
     "execution_count": 4,
     "metadata": {},
     "output_type": "execute_result"
    }
   ],
   "source": [
    "train_labels.head()"
   ]
  },
  {
   "cell_type": "code",
   "execution_count": 5,
   "id": "6e68f982",
   "metadata": {},
   "outputs": [
    {
     "data": {
      "image/png": "[encoded data removed]",
      "text/plain": [
       "<Figure size 600x400 with 1 Axes>"
      ]
     },
     "metadata": {},
     "output_type": "display_data"
    }
   ],
   "source": [
    "fig, ax = plt.subplots(figsize=(6,4))  \n",
    "sns.countplot(x=train_labels.target)  \n",
    "plt.show()  "
   ]
  },
  {
   "cell_type": "code",
   "execution_count": 6,
   "id": "af738191",
   "metadata": {},
   "outputs": [
    {
     "name": "stdout",
     "output_type": "stream",
     "text": [
      "<class 'pandas.core.frame.DataFrame'>\n",
      "RangeIndex: 5531451 entries, 0 to 5531450\n",
      "Columns: 190 entries, customer_ID to D_145\n",
      "dtypes: float16(177), int8(11), object(2)\n",
      "memory usage: 2.0+ GB\n"
     ]
    }
   ],
   "source": [
    "train_dataframe.info()"
   ]
  },
  {
   "cell_type": "code",
   "execution_count": 7,
   "id": "d1e5b29d",
   "metadata": {},
   "outputs": [
    {
     "data": {
      "text/plain": [
       "(Timestamp('2017-03-01 00:00:00'), Timestamp('2018-03-31 00:00:00'))"
      ]
     },
     "execution_count": 7,
     "metadata": {},
     "output_type": "execute_result"
    }
   ],
   "source": [
    "#Convert S_2 to Time Format\n",
    "train_dataframe['S_2'] = pd.to_datetime(train_dataframe['S_2'])  \n",
    "train_dataframe['S_2'].min(), train_dataframe['S_2'].max()  "
   ]
  },
  {
   "cell_type": "markdown",
   "id": "7bb3b9a7",
   "metadata": {},
   "source": [
    "### FEATURE SELECTION"
   ]
  },
  {
   "cell_type": "code",
   "execution_count": 8,
   "id": "53a67c56",
   "metadata": {},
   "outputs": [],
   "source": [
    "#The code is effectively reducing both the training and test datasets to only the most recent data entries for each customer. This is a common preprocessing step when building models that predict outcomes based on the latest available data. The assumption is that the most recent features are the most relevant for predicting current or future customer behavior.\n",
    "\n",
    "\n",
    "# Training data preparation  \n",
    "# taking the latest profile features for each customer  \n",
    "  \n",
    "train_dataframe = train_dataframe.groupby(\"customer_ID\").tail(1).reset_index(drop=True)  \n",
    "test_dataframe = test_dataframe.groupby(\"customer_ID\").tail(1).reset_index(drop=True)  \n",
    "  \n",
    "# Merge with targets  \n",
    "train_dataframe = train_dataframe.merge(train_labels, on='customer_ID', how='left')  \n",
    "  \n",
    "target_col = 'target'  ## this is target column\n",
    "drop_cols = ['customer_ID', 'S_2', target_col]  ## these are source columns on which we wamt the result and it will beexcluded from train dataset \n",
    "cat_cols = ['B_30', 'B_38', 'D_114', 'D_116', 'D_117', 'D_120', 'D_126', 'D_63', 'D_64', 'D_66', 'D_68']  ##these are main categorical vars\n",
    "train_cols = [col for col in train_dataframe.columns if col not in drop_cols]  ##all cols except the drop cols\n"
   ]
  },
  {
   "cell_type": "code",
   "execution_count": 9,
   "id": "5261a7b7",
   "metadata": {},
   "outputs": [],
   "source": [
    "for cols in train_cols:\n",
    "    if cols in cat_cols:\n",
    "        train_dataframe[cols] = train_dataframe[cols].astype('category')\n",
    "    else:\n",
    "        train_dataframe[cols] = train_dataframe[cols].astype('float32')"
   ]
  },
  {
   "cell_type": "code",
   "execution_count": 40,
   "id": "c4daa5ec",
   "metadata": {},
   "outputs": [
    {
     "name": "stderr",
     "output_type": "stream",
     "text": [
      "\r",
      "  0%|                                                                                          | 0/188 [00:00<?, ?it/s]"
     ]
    },
    {
     "name": "stdout",
     "output_type": "stream",
     "text": [
      "[INFO] creating woe binning ...\n"
     ]
    },
    {
     "name": "stderr",
     "output_type": "stream",
     "text": [
      "\r",
      "  1%|▍                                                                                 | 1/188 [00:04<12:57,  4.16s/it]"
     ]
    },
    {
     "name": "stdout",
     "output_type": "stream",
     "text": [
      "[INFO] creating woe binning ...\n"
     ]
    },
    {
     "name": "stderr",
     "output_type": "stream",
     "text": [
      "\r",
      "  1%|▊                                                                                 | 2/188 [00:07<11:42,  3.78s/it]"
     ]
    },
    {
     "name": "stdout",
     "output_type": "stream",
     "text": [
      "[INFO] creating woe binning ...\n"
     ]
    },
    {
     "name": "stderr",
     "output_type": "stream",
     "text": [
      "\r",
      "  2%|█▎                                                                                | 3/188 [00:11<11:06,  3.60s/it]"
     ]
    },
    {
     "name": "stdout",
     "output_type": "stream",
     "text": [
      "[INFO] creating woe binning ...\n"
     ]
    },
    {
     "name": "stderr",
     "output_type": "stream",
     "text": [
      "\r",
      "  2%|█▋                                                                                | 4/188 [00:14<10:43,  3.50s/it]"
     ]
    },
    {
     "name": "stdout",
     "output_type": "stream",
     "text": [
      "[INFO] creating woe binning ...\n"
     ]
    },
    {
     "name": "stderr",
     "output_type": "stream",
     "text": [
      "\r",
      "  3%|██▏                                                                               | 5/188 [00:17<10:26,  3.42s/it]"
     ]
    },
    {
     "name": "stdout",
     "output_type": "stream",
     "text": [
      "[INFO] creating woe binning ...\n"
     ]
    },
    {
     "name": "stderr",
     "output_type": "stream",
     "text": [
      "\r",
      "  3%|██▌                                                                               | 6/188 [00:21<10:33,  3.48s/it]"
     ]
    },
    {
     "name": "stdout",
     "output_type": "stream",
     "text": [
      "[INFO] creating woe binning ...\n"
     ]
    },
    {
     "name": "stderr",
     "output_type": "stream",
     "text": [
      "\r",
      "  4%|███                                                                               | 7/188 [00:24<10:36,  3.52s/it]"
     ]
    },
    {
     "name": "stdout",
     "output_type": "stream",
     "text": [
      "[INFO] creating woe binning ...\n"
     ]
    },
    {
     "name": "stderr",
     "output_type": "stream",
     "text": [
      "\r",
      "  4%|███▍                                                                              | 8/188 [00:28<10:25,  3.48s/it]"
     ]
    },
    {
     "name": "stdout",
     "output_type": "stream",
     "text": [
      "[INFO] creating woe binning ...\n"
     ]
    },
    {
     "name": "stderr",
     "output_type": "stream",
     "text": [
      "\r",
      "  5%|███▉                                                                              | 9/188 [00:31<09:55,  3.33s/it]"
     ]
    },
    {
     "name": "stdout",
     "output_type": "stream",
     "text": [
      "[INFO] creating woe binning ...\n"
     ]
    },
    {
     "name": "stderr",
     "output_type": "stream",
     "text": [
      "\r",
      "  5%|████▎                                                                            | 10/188 [00:34<10:10,  3.43s/it]"
     ]
    },
    {
     "name": "stdout",
     "output_type": "stream",
     "text": [
      "[INFO] creating woe binning ...\n"
     ]
    },
    {
     "name": "stderr",
     "output_type": "stream",
     "text": [
      "\r",
      "  6%|████▋                                                                            | 11/188 [00:38<10:01,  3.40s/it]"
     ]
    },
    {
     "name": "stdout",
     "output_type": "stream",
     "text": [
      "[INFO] creating woe binning ...\n"
     ]
    },
    {
     "name": "stderr",
     "output_type": "stream",
     "text": [
      "\r",
      "  6%|█████▏                                                                           | 12/188 [00:41<10:11,  3.47s/it]"
     ]
    },
    {
     "name": "stdout",
     "output_type": "stream",
     "text": [
      "[INFO] creating woe binning ...\n"
     ]
    },
    {
     "name": "stderr",
     "output_type": "stream",
     "text": [
      "\r",
      "  7%|█████▌                                                                           | 13/188 [00:45<10:01,  3.44s/it]"
     ]
    },
    {
     "name": "stdout",
     "output_type": "stream",
     "text": [
      "[INFO] creating woe binning ...\n"
     ]
    },
    {
     "name": "stderr",
     "output_type": "stream",
     "text": [
      "\r",
      "  7%|██████                                                                           | 14/188 [00:48<10:00,  3.45s/it]"
     ]
    },
    {
     "name": "stdout",
     "output_type": "stream",
     "text": [
      "[INFO] creating woe binning ...\n"
     ]
    },
    {
     "name": "stderr",
     "output_type": "stream",
     "text": [
      "\r",
      "  8%|██████▍                                                                          | 15/188 [00:52<09:49,  3.41s/it]"
     ]
    },
    {
     "name": "stdout",
     "output_type": "stream",
     "text": [
      "[INFO] creating woe binning ...\n"
     ]
    },
    {
     "name": "stderr",
     "output_type": "stream",
     "text": [
      "\r",
      "  9%|██████▉                                                                          | 16/188 [00:56<10:53,  3.80s/it]"
     ]
    },
    {
     "name": "stdout",
     "output_type": "stream",
     "text": [
      "[INFO] creating woe binning ...\n"
     ]
    },
    {
     "name": "stderr",
     "output_type": "stream",
     "text": [
      "\r",
      "  9%|███████▎                                                                         | 17/188 [01:01<11:15,  3.95s/it]"
     ]
    },
    {
     "name": "stdout",
     "output_type": "stream",
     "text": [
      "[INFO] creating woe binning ...\n"
     ]
    },
    {
     "name": "stderr",
     "output_type": "stream",
     "text": [
      "\r",
      " 10%|███████▊                                                                         | 18/188 [01:06<12:22,  4.37s/it]"
     ]
    },
    {
     "name": "stdout",
     "output_type": "stream",
     "text": [
      "[INFO] creating woe binning ...\n"
     ]
    },
    {
     "name": "stderr",
     "output_type": "stream",
     "text": [
      "\r",
      " 10%|████████▏                                                                        | 19/188 [01:09<11:24,  4.05s/it]"
     ]
    },
    {
     "name": "stdout",
     "output_type": "stream",
     "text": [
      "[INFO] creating woe binning ...\n"
     ]
    },
    {
     "name": "stderr",
     "output_type": "stream",
     "text": [
      "\r",
      " 11%|████████▌                                                                        | 20/188 [01:14<11:45,  4.20s/it]"
     ]
    },
    {
     "name": "stdout",
     "output_type": "stream",
     "text": [
      "[INFO] creating woe binning ...\n"
     ]
    },
    {
     "name": "stderr",
     "output_type": "stream",
     "text": [
      "\r",
      " 11%|█████████                                                                        | 21/188 [01:18<12:02,  4.33s/it]"
     ]
    },
    {
     "name": "stdout",
     "output_type": "stream",
     "text": [
      "[INFO] creating woe binning ...\n"
     ]
    },
    {
     "name": "stderr",
     "output_type": "stream",
     "text": [
      "\r",
      " 12%|█████████▍                                                                       | 22/188 [01:24<12:46,  4.62s/it]"
     ]
    },
    {
     "name": "stdout",
     "output_type": "stream",
     "text": [
      "[INFO] creating woe binning ...\n"
     ]
    },
    {
     "name": "stderr",
     "output_type": "stream",
     "text": [
      "\r",
      " 12%|█████████▉                                                                       | 23/188 [01:29<13:04,  4.75s/it]"
     ]
    },
    {
     "name": "stdout",
     "output_type": "stream",
     "text": [
      "[INFO] creating woe binning ...\n"
     ]
    },
    {
     "name": "stderr",
     "output_type": "stream",
     "text": [
      "\r",
      " 13%|██████████▎                                                                      | 24/188 [01:33<12:32,  4.59s/it]"
     ]
    },
    {
     "name": "stdout",
     "output_type": "stream",
     "text": [
      "[INFO] creating woe binning ...\n"
     ]
    },
    {
     "name": "stderr",
     "output_type": "stream",
     "text": [
      "\r",
      " 13%|██████████▊                                                                      | 25/188 [01:38<12:55,  4.76s/it]"
     ]
    },
    {
     "name": "stdout",
     "output_type": "stream",
     "text": [
      "[INFO] creating woe binning ...\n"
     ]
    },
    {
     "name": "stderr",
     "output_type": "stream",
     "text": [
      "\r",
      " 14%|███████████▏                                                                     | 26/188 [01:43<12:56,  4.79s/it]"
     ]
    },
    {
     "name": "stdout",
     "output_type": "stream",
     "text": [
      "[INFO] creating woe binning ...\n"
     ]
    },
    {
     "name": "stderr",
     "output_type": "stream",
     "text": [
      "\r",
      " 14%|███████████▋                                                                     | 27/188 [01:49<13:54,  5.18s/it]"
     ]
    },
    {
     "name": "stdout",
     "output_type": "stream",
     "text": [
      "[INFO] creating woe binning ...\n"
     ]
    },
    {
     "name": "stderr",
     "output_type": "stream",
     "text": [
      "\r",
      " 15%|████████████                                                                     | 28/188 [01:55<14:39,  5.50s/it]"
     ]
    },
    {
     "name": "stdout",
     "output_type": "stream",
     "text": [
      "[INFO] creating woe binning ...\n"
     ]
    },
    {
     "name": "stderr",
     "output_type": "stream",
     "text": [
      "\r",
      " 15%|████████████▍                                                                    | 29/188 [02:02<15:52,  5.99s/it]"
     ]
    },
    {
     "name": "stdout",
     "output_type": "stream",
     "text": [
      "[INFO] creating woe binning ...\n"
     ]
    },
    {
     "name": "stderr",
     "output_type": "stream",
     "text": [
      "\r",
      " 16%|████████████▉                                                                    | 30/188 [02:08<15:03,  5.72s/it]"
     ]
    },
    {
     "name": "stdout",
     "output_type": "stream",
     "text": [
      "[INFO] creating woe binning ...\n"
     ]
    },
    {
     "name": "stderr",
     "output_type": "stream",
     "text": [
      "\r",
      " 16%|█████████████▎                                                                   | 31/188 [02:13<14:31,  5.55s/it]"
     ]
    },
    {
     "name": "stdout",
     "output_type": "stream",
     "text": [
      "[INFO] creating woe binning ...\n"
     ]
    },
    {
     "name": "stderr",
     "output_type": "stream",
     "text": [
      "\r",
      " 17%|█████████████▊                                                                   | 32/188 [02:18<14:02,  5.40s/it]"
     ]
    },
    {
     "name": "stdout",
     "output_type": "stream",
     "text": [
      "[INFO] creating woe binning ...\n"
     ]
    },
    {
     "name": "stderr",
     "output_type": "stream",
     "text": [
      "\r",
      " 18%|██████████████▏                                                                  | 33/188 [02:23<13:50,  5.36s/it]"
     ]
    },
    {
     "name": "stdout",
     "output_type": "stream",
     "text": [
      "[INFO] creating woe binning ...\n"
     ]
    },
    {
     "name": "stderr",
     "output_type": "stream",
     "text": [
      "\r",
      " 18%|██████████████▋                                                                  | 34/188 [02:28<13:33,  5.28s/it]"
     ]
    },
    {
     "name": "stdout",
     "output_type": "stream",
     "text": [
      "[INFO] creating woe binning ...\n"
     ]
    },
    {
     "name": "stderr",
     "output_type": "stream",
     "text": [
      "\r",
      " 19%|███████████████                                                                  | 35/188 [02:33<13:26,  5.27s/it]"
     ]
    },
    {
     "name": "stdout",
     "output_type": "stream",
     "text": [
      "[INFO] creating woe binning ...\n"
     ]
    },
    {
     "name": "stderr",
     "output_type": "stream",
     "text": [
      "\r",
      " 19%|███████████████▌                                                                 | 36/188 [02:39<13:48,  5.45s/it]"
     ]
    },
    {
     "name": "stdout",
     "output_type": "stream",
     "text": [
      "[INFO] creating woe binning ...\n"
     ]
    },
    {
     "name": "stderr",
     "output_type": "stream",
     "text": [
      "\r",
      " 20%|███████████████▉                                                                 | 37/188 [02:44<13:34,  5.39s/it]"
     ]
    },
    {
     "name": "stdout",
     "output_type": "stream",
     "text": [
      "[INFO] creating woe binning ...\n"
     ]
    },
    {
     "name": "stderr",
     "output_type": "stream",
     "text": [
      "\r",
      " 20%|████████████████▎                                                                | 38/188 [02:49<13:08,  5.26s/it]"
     ]
    },
    {
     "name": "stdout",
     "output_type": "stream",
     "text": [
      "[INFO] creating woe binning ...\n"
     ]
    },
    {
     "name": "stderr",
     "output_type": "stream",
     "text": [
      "\r",
      " 21%|████████████████▊                                                                | 39/188 [02:55<12:56,  5.21s/it]"
     ]
    },
    {
     "name": "stdout",
     "output_type": "stream",
     "text": [
      "[INFO] creating woe binning ...\n"
     ]
    },
    {
     "name": "stderr",
     "output_type": "stream",
     "text": [
      "\r",
      " 21%|█████████████████▏                                                               | 40/188 [02:59<12:30,  5.07s/it]"
     ]
    },
    {
     "name": "stdout",
     "output_type": "stream",
     "text": [
      "[INFO] creating woe binning ...\n"
     ]
    },
    {
     "name": "stderr",
     "output_type": "stream",
     "text": [
      "\r",
      " 22%|█████████████████▋                                                               | 41/188 [03:05<12:53,  5.26s/it]"
     ]
    },
    {
     "name": "stdout",
     "output_type": "stream",
     "text": [
      "[INFO] creating woe binning ...\n"
     ]
    },
    {
     "name": "stderr",
     "output_type": "stream",
     "text": [
      "\r",
      " 22%|██████████████████                                                               | 42/188 [03:10<12:50,  5.27s/it]"
     ]
    },
    {
     "name": "stdout",
     "output_type": "stream",
     "text": [
      "[INFO] creating woe binning ...\n"
     ]
    },
    {
     "name": "stderr",
     "output_type": "stream",
     "text": [
      "\r",
      " 23%|██████████████████▌                                                              | 43/188 [03:15<12:28,  5.16s/it]"
     ]
    },
    {
     "name": "stdout",
     "output_type": "stream",
     "text": [
      "[INFO] creating woe binning ...\n"
     ]
    },
    {
     "name": "stderr",
     "output_type": "stream",
     "text": [
      "\r",
      " 23%|██████████████████▉                                                              | 44/188 [03:20<12:00,  5.00s/it]"
     ]
    },
    {
     "name": "stdout",
     "output_type": "stream",
     "text": [
      "[INFO] creating woe binning ...\n"
     ]
    },
    {
     "name": "stderr",
     "output_type": "stream",
     "text": [
      "\r",
      " 24%|███████████████████▍                                                             | 45/188 [03:25<12:18,  5.17s/it]"
     ]
    },
    {
     "name": "stdout",
     "output_type": "stream",
     "text": [
      "[INFO] creating woe binning ...\n"
     ]
    },
    {
     "name": "stderr",
     "output_type": "stream",
     "text": [
      "\r",
      " 24%|███████████████████▊                                                             | 46/188 [03:31<12:39,  5.35s/it]"
     ]
    },
    {
     "name": "stdout",
     "output_type": "stream",
     "text": [
      "[INFO] creating woe binning ...\n"
     ]
    },
    {
     "name": "stderr",
     "output_type": "stream",
     "text": [
      "\r",
      " 25%|████████████████████▎                                                            | 47/188 [03:36<12:23,  5.27s/it]"
     ]
    },
    {
     "name": "stdout",
     "output_type": "stream",
     "text": [
      "[INFO] creating woe binning ...\n"
     ]
    },
    {
     "name": "stderr",
     "output_type": "stream",
     "text": [
      "\r",
      " 26%|████████████████████▋                                                            | 48/188 [03:42<12:31,  5.37s/it]"
     ]
    },
    {
     "name": "stdout",
     "output_type": "stream",
     "text": [
      "[INFO] creating woe binning ...\n"
     ]
    },
    {
     "name": "stderr",
     "output_type": "stream",
     "text": [
      "\r",
      " 26%|█████████████████████                                                            | 49/188 [03:47<12:15,  5.29s/it]"
     ]
    },
    {
     "name": "stdout",
     "output_type": "stream",
     "text": [
      "[INFO] creating woe binning ...\n"
     ]
    },
    {
     "name": "stderr",
     "output_type": "stream",
     "text": [
      "\r",
      " 27%|█████████████████████▌                                                           | 50/188 [03:53<12:35,  5.48s/it]"
     ]
    },
    {
     "name": "stdout",
     "output_type": "stream",
     "text": [
      "[INFO] creating woe binning ...\n"
     ]
    },
    {
     "name": "stderr",
     "output_type": "stream",
     "text": [
      "\r",
      " 27%|█████████████████████▉                                                           | 51/188 [03:58<12:14,  5.36s/it]"
     ]
    },
    {
     "name": "stdout",
     "output_type": "stream",
     "text": [
      "[INFO] creating woe binning ...\n"
     ]
    },
    {
     "name": "stderr",
     "output_type": "stream",
     "text": [
      "\r",
      " 28%|██████████████████████▍                                                          | 52/188 [04:01<10:45,  4.75s/it]"
     ]
    },
    {
     "name": "stdout",
     "output_type": "stream",
     "text": [
      "Error processing column D_63: sequence item 0: expected str instance, int found\n",
      "[INFO] creating woe binning ...\n"
     ]
    },
    {
     "name": "stderr",
     "output_type": "stream",
     "text": [
      "\r",
      " 28%|██████████████████████▊                                                          | 53/188 [04:04<09:35,  4.27s/it]"
     ]
    },
    {
     "name": "stdout",
     "output_type": "stream",
     "text": [
      "Error processing column D_64: sequence item 0: expected str instance, int found\n",
      "[INFO] creating woe binning ...\n"
     ]
    },
    {
     "name": "stderr",
     "output_type": "stream",
     "text": [
      "\r",
      " 29%|███████████████████████▎                                                         | 54/188 [04:10<10:20,  4.63s/it]"
     ]
    },
    {
     "name": "stdout",
     "output_type": "stream",
     "text": [
      "[INFO] creating woe binning ...\n"
     ]
    },
    {
     "name": "stderr",
     "output_type": "stream",
     "text": [
      "\r",
      " 29%|███████████████████████▋                                                         | 55/188 [04:16<10:55,  4.93s/it]"
     ]
    },
    {
     "name": "stdout",
     "output_type": "stream",
     "text": [
      "[INFO] creating woe binning ...\n"
     ]
    },
    {
     "name": "stderr",
     "output_type": "stream",
     "text": [
      "\r",
      " 30%|████████████████████████▏                                                        | 56/188 [04:21<11:07,  5.06s/it]"
     ]
    },
    {
     "name": "stdout",
     "output_type": "stream",
     "text": [
      "[INFO] creating woe binning ...\n"
     ]
    },
    {
     "name": "stderr",
     "output_type": "stream",
     "text": [
      "\r",
      " 30%|████████████████████████▌                                                        | 57/188 [04:26<11:03,  5.07s/it]"
     ]
    },
    {
     "name": "stdout",
     "output_type": "stream",
     "text": [
      "[INFO] creating woe binning ...\n"
     ]
    },
    {
     "name": "stderr",
     "output_type": "stream",
     "text": [
      "\r",
      " 31%|████████████████████████▉                                                        | 58/188 [04:32<11:18,  5.22s/it]"
     ]
    },
    {
     "name": "stdout",
     "output_type": "stream",
     "text": [
      "[INFO] creating woe binning ...\n"
     ]
    },
    {
     "name": "stderr",
     "output_type": "stream",
     "text": [
      "\r",
      " 31%|█████████████████████████▍                                                       | 59/188 [04:35<10:00,  4.65s/it]"
     ]
    },
    {
     "name": "stdout",
     "output_type": "stream",
     "text": [
      "Error processing column D_66: sequence item 0: expected str instance, int found\n",
      "[INFO] creating woe binning ...\n"
     ]
    },
    {
     "name": "stderr",
     "output_type": "stream",
     "text": [
      "\r",
      " 32%|█████████████████████████▊                                                       | 60/188 [04:40<10:13,  4.80s/it]"
     ]
    },
    {
     "name": "stdout",
     "output_type": "stream",
     "text": [
      "[INFO] creating woe binning ...\n"
     ]
    },
    {
     "name": "stderr",
     "output_type": "stream",
     "text": [
      "\r",
      " 32%|██████████████████████████▎                                                      | 61/188 [04:43<09:11,  4.34s/it]"
     ]
    },
    {
     "name": "stdout",
     "output_type": "stream",
     "text": [
      "Error processing column D_68: sequence item 0: expected str instance, int found\n",
      "[INFO] creating woe binning ...\n"
     ]
    },
    {
     "name": "stderr",
     "output_type": "stream",
     "text": [
      "\r",
      " 33%|██████████████████████████▋                                                      | 62/188 [04:49<09:45,  4.64s/it]"
     ]
    },
    {
     "name": "stdout",
     "output_type": "stream",
     "text": [
      "[INFO] creating woe binning ...\n"
     ]
    },
    {
     "name": "stderr",
     "output_type": "stream",
     "text": [
      "\r",
      " 34%|███████████████████████████▏                                                     | 63/188 [04:54<10:17,  4.94s/it]"
     ]
    },
    {
     "name": "stdout",
     "output_type": "stream",
     "text": [
      "[INFO] creating woe binning ...\n"
     ]
    },
    {
     "name": "stderr",
     "output_type": "stream",
     "text": [
      "\r",
      " 34%|███████████████████████████▌                                                     | 64/188 [04:59<10:01,  4.85s/it]"
     ]
    },
    {
     "name": "stdout",
     "output_type": "stream",
     "text": [
      "[INFO] creating woe binning ...\n"
     ]
    },
    {
     "name": "stderr",
     "output_type": "stream",
     "text": [
      "\r",
      " 35%|████████████████████████████                                                     | 65/188 [05:04<09:50,  4.80s/it]"
     ]
    },
    {
     "name": "stdout",
     "output_type": "stream",
     "text": [
      "[INFO] creating woe binning ...\n"
     ]
    },
    {
     "name": "stderr",
     "output_type": "stream",
     "text": [
      "\r",
      " 35%|████████████████████████████▍                                                    | 66/188 [05:09<10:11,  5.01s/it]"
     ]
    },
    {
     "name": "stdout",
     "output_type": "stream",
     "text": [
      "[INFO] creating woe binning ...\n"
     ]
    },
    {
     "name": "stderr",
     "output_type": "stream",
     "text": [
      "\r",
      " 36%|████████████████████████████▊                                                    | 67/188 [05:15<10:35,  5.25s/it]"
     ]
    },
    {
     "name": "stdout",
     "output_type": "stream",
     "text": [
      "[INFO] creating woe binning ...\n"
     ]
    },
    {
     "name": "stderr",
     "output_type": "stream",
     "text": [
      "\r",
      " 36%|█████████████████████████████▎                                                   | 68/188 [05:20<10:09,  5.08s/it]"
     ]
    },
    {
     "name": "stdout",
     "output_type": "stream",
     "text": [
      "[INFO] creating woe binning ...\n"
     ]
    },
    {
     "name": "stderr",
     "output_type": "stream",
     "text": [
      "\r",
      " 37%|█████████████████████████████▋                                                   | 69/188 [05:26<10:39,  5.38s/it]"
     ]
    },
    {
     "name": "stdout",
     "output_type": "stream",
     "text": [
      "[INFO] creating woe binning ...\n"
     ]
    },
    {
     "name": "stderr",
     "output_type": "stream",
     "text": [
      "\r",
      " 37%|██████████████████████████████▏                                                  | 70/188 [05:31<10:37,  5.41s/it]"
     ]
    },
    {
     "name": "stdout",
     "output_type": "stream",
     "text": [
      "[INFO] creating woe binning ...\n"
     ]
    },
    {
     "name": "stderr",
     "output_type": "stream",
     "text": [
      "\r",
      " 38%|██████████████████████████████▌                                                  | 71/188 [05:37<10:38,  5.46s/it]"
     ]
    },
    {
     "name": "stdout",
     "output_type": "stream",
     "text": [
      "[INFO] creating woe binning ...\n"
     ]
    },
    {
     "name": "stderr",
     "output_type": "stream",
     "text": [
      "\r",
      " 38%|███████████████████████████████                                                  | 72/188 [05:43<10:49,  5.60s/it]"
     ]
    },
    {
     "name": "stdout",
     "output_type": "stream",
     "text": [
      "[INFO] creating woe binning ...\n"
     ]
    },
    {
     "name": "stderr",
     "output_type": "stream",
     "text": [
      "\r",
      " 39%|███████████████████████████████▍                                                 | 73/188 [05:46<09:34,  4.99s/it]"
     ]
    },
    {
     "name": "stdout",
     "output_type": "stream",
     "text": [
      "[INFO] creating woe binning ...\n"
     ]
    },
    {
     "name": "stderr",
     "output_type": "stream",
     "text": [
      "\r",
      " 39%|███████████████████████████████▉                                                 | 74/188 [05:51<09:28,  4.99s/it]"
     ]
    },
    {
     "name": "stdout",
     "output_type": "stream",
     "text": [
      "[INFO] creating woe binning ...\n"
     ]
    },
    {
     "name": "stderr",
     "output_type": "stream",
     "text": [
      "\r",
      " 40%|████████████████████████████████▎                                                | 75/188 [05:56<09:21,  4.97s/it]"
     ]
    },
    {
     "name": "stdout",
     "output_type": "stream",
     "text": [
      "[INFO] creating woe binning ...\n"
     ]
    },
    {
     "name": "stderr",
     "output_type": "stream",
     "text": [
      "\r",
      " 40%|████████████████████████████████▋                                                | 76/188 [06:02<09:31,  5.10s/it]"
     ]
    },
    {
     "name": "stdout",
     "output_type": "stream",
     "text": [
      "[INFO] creating woe binning ...\n"
     ]
    },
    {
     "name": "stderr",
     "output_type": "stream",
     "text": [
      "\r",
      " 41%|█████████████████████████████████▏                                               | 77/188 [06:06<09:22,  5.07s/it]"
     ]
    },
    {
     "name": "stdout",
     "output_type": "stream",
     "text": [
      "[INFO] creating woe binning ...\n"
     ]
    },
    {
     "name": "stderr",
     "output_type": "stream",
     "text": [
      "\r",
      " 41%|█████████████████████████████████▌                                               | 78/188 [06:12<09:41,  5.28s/it]"
     ]
    },
    {
     "name": "stdout",
     "output_type": "stream",
     "text": [
      "[INFO] creating woe binning ...\n"
     ]
    },
    {
     "name": "stderr",
     "output_type": "stream",
     "text": [
      "\r",
      " 42%|██████████████████████████████████                                               | 79/188 [06:17<09:32,  5.25s/it]"
     ]
    },
    {
     "name": "stdout",
     "output_type": "stream",
     "text": [
      "[INFO] creating woe binning ...\n"
     ]
    },
    {
     "name": "stderr",
     "output_type": "stream",
     "text": [
      "\r",
      " 43%|██████████████████████████████████▍                                              | 80/188 [06:23<09:44,  5.41s/it]"
     ]
    },
    {
     "name": "stdout",
     "output_type": "stream",
     "text": [
      "[INFO] creating woe binning ...\n"
     ]
    },
    {
     "name": "stderr",
     "output_type": "stream",
     "text": [
      "\r",
      " 43%|██████████████████████████████████▉                                              | 81/188 [06:29<09:59,  5.61s/it]"
     ]
    },
    {
     "name": "stdout",
     "output_type": "stream",
     "text": [
      "[INFO] creating woe binning ...\n"
     ]
    },
    {
     "name": "stderr",
     "output_type": "stream",
     "text": [
      "\r",
      " 44%|███████████████████████████████████▎                                             | 82/188 [06:35<10:01,  5.68s/it]"
     ]
    },
    {
     "name": "stdout",
     "output_type": "stream",
     "text": [
      "[INFO] creating woe binning ...\n"
     ]
    },
    {
     "name": "stderr",
     "output_type": "stream",
     "text": [
      "\r",
      " 44%|███████████████████████████████████▊                                             | 83/188 [06:41<09:47,  5.59s/it]"
     ]
    },
    {
     "name": "stdout",
     "output_type": "stream",
     "text": [
      "[INFO] creating woe binning ...\n"
     ]
    },
    {
     "name": "stderr",
     "output_type": "stream",
     "text": [
      "\r",
      " 45%|████████████████████████████████████▏                                            | 84/188 [06:46<09:49,  5.67s/it]"
     ]
    },
    {
     "name": "stdout",
     "output_type": "stream",
     "text": [
      "[INFO] creating woe binning ...\n"
     ]
    },
    {
     "name": "stderr",
     "output_type": "stream",
     "text": [
      "\r",
      " 45%|████████████████████████████████████▌                                            | 85/188 [06:52<09:28,  5.52s/it]"
     ]
    },
    {
     "name": "stdout",
     "output_type": "stream",
     "text": [
      "[INFO] creating woe binning ...\n"
     ]
    },
    {
     "name": "stderr",
     "output_type": "stream",
     "text": [
      "\r",
      " 46%|█████████████████████████████████████                                            | 86/188 [06:56<08:38,  5.08s/it]"
     ]
    },
    {
     "name": "stdout",
     "output_type": "stream",
     "text": [
      "[INFO] creating woe binning ...\n"
     ]
    },
    {
     "name": "stderr",
     "output_type": "stream",
     "text": [
      "\r",
      " 46%|█████████████████████████████████████▍                                           | 87/188 [07:01<08:47,  5.22s/it]"
     ]
    },
    {
     "name": "stdout",
     "output_type": "stream",
     "text": [
      "[INFO] creating woe binning ...\n"
     ]
    },
    {
     "name": "stderr",
     "output_type": "stream",
     "text": [
      "\r",
      " 47%|█████████████████████████████████████▉                                           | 88/188 [07:07<08:47,  5.27s/it]"
     ]
    },
    {
     "name": "stdout",
     "output_type": "stream",
     "text": [
      "[INFO] creating woe binning ...\n"
     ]
    },
    {
     "name": "stderr",
     "output_type": "stream",
     "text": [
      "\r",
      " 47%|██████████████████████████████████████▎                                          | 89/188 [07:12<08:47,  5.33s/it]"
     ]
    },
    {
     "name": "stdout",
     "output_type": "stream",
     "text": [
      "[INFO] creating woe binning ...\n"
     ]
    },
    {
     "name": "stderr",
     "output_type": "stream",
     "text": [
      "\r",
      " 48%|██████████████████████████████████████▊                                          | 90/188 [07:18<08:53,  5.44s/it]"
     ]
    },
    {
     "name": "stdout",
     "output_type": "stream",
     "text": [
      "[INFO] creating woe binning ...\n"
     ]
    },
    {
     "name": "stderr",
     "output_type": "stream",
     "text": [
      "\r",
      " 48%|███████████████████████████████████████▏                                         | 91/188 [07:23<08:56,  5.53s/it]"
     ]
    },
    {
     "name": "stdout",
     "output_type": "stream",
     "text": [
      "[INFO] creating woe binning ...\n"
     ]
    },
    {
     "name": "stderr",
     "output_type": "stream",
     "text": [
      "\r",
      " 49%|███████████████████████████████████████▋                                         | 92/188 [07:29<08:56,  5.59s/it]"
     ]
    },
    {
     "name": "stdout",
     "output_type": "stream",
     "text": [
      "[INFO] creating woe binning ...\n"
     ]
    },
    {
     "name": "stderr",
     "output_type": "stream",
     "text": [
      "\r",
      " 49%|████████████████████████████████████████                                         | 93/188 [07:34<08:19,  5.26s/it]"
     ]
    },
    {
     "name": "stdout",
     "output_type": "stream",
     "text": [
      "[INFO] creating woe binning ...\n"
     ]
    },
    {
     "name": "stderr",
     "output_type": "stream",
     "text": [
      "\r",
      " 50%|████████████████████████████████████████▌                                        | 94/188 [07:40<08:33,  5.46s/it]"
     ]
    },
    {
     "name": "stdout",
     "output_type": "stream",
     "text": [
      "[INFO] creating woe binning ...\n"
     ]
    },
    {
     "name": "stderr",
     "output_type": "stream",
     "text": [
      "\r",
      " 51%|████████████████████████████████████████▉                                        | 95/188 [07:45<08:33,  5.52s/it]"
     ]
    },
    {
     "name": "stdout",
     "output_type": "stream",
     "text": [
      "[INFO] creating woe binning ...\n"
     ]
    },
    {
     "name": "stderr",
     "output_type": "stream",
     "text": [
      "\r",
      " 51%|█████████████████████████████████████████▎                                       | 96/188 [07:51<08:30,  5.55s/it]"
     ]
    },
    {
     "name": "stdout",
     "output_type": "stream",
     "text": [
      "[INFO] creating woe binning ...\n"
     ]
    },
    {
     "name": "stderr",
     "output_type": "stream",
     "text": [
      "\r",
      " 52%|█████████████████████████████████████████▊                                       | 97/188 [07:56<08:14,  5.43s/it]"
     ]
    },
    {
     "name": "stdout",
     "output_type": "stream",
     "text": [
      "[INFO] creating woe binning ...\n"
     ]
    },
    {
     "name": "stderr",
     "output_type": "stream",
     "text": [
      "\r",
      " 52%|██████████████████████████████████████████▏                                      | 98/188 [08:02<08:16,  5.52s/it]"
     ]
    },
    {
     "name": "stdout",
     "output_type": "stream",
     "text": [
      "[INFO] creating woe binning ...\n"
     ]
    },
    {
     "name": "stderr",
     "output_type": "stream",
     "text": [
      "\r",
      " 53%|██████████████████████████████████████████▋                                      | 99/188 [08:08<08:24,  5.67s/it]"
     ]
    },
    {
     "name": "stdout",
     "output_type": "stream",
     "text": [
      "[INFO] creating woe binning ...\n"
     ]
    },
    {
     "name": "stderr",
     "output_type": "stream",
     "text": [
      "\r",
      " 53%|██████████████████████████████████████████▌                                     | 100/188 [08:14<08:26,  5.75s/it]"
     ]
    },
    {
     "name": "stdout",
     "output_type": "stream",
     "text": [
      "[INFO] creating woe binning ...\n"
     ]
    },
    {
     "name": "stderr",
     "output_type": "stream",
     "text": [
      "\r",
      " 54%|██████████████████████████████████████████▉                                     | 101/188 [08:20<08:33,  5.90s/it]"
     ]
    },
    {
     "name": "stdout",
     "output_type": "stream",
     "text": [
      "[INFO] creating woe binning ...\n"
     ]
    },
    {
     "name": "stderr",
     "output_type": "stream",
     "text": [
      "\r",
      " 54%|███████████████████████████████████████████▍                                    | 102/188 [08:26<08:32,  5.96s/it]"
     ]
    },
    {
     "name": "stdout",
     "output_type": "stream",
     "text": [
      "[INFO] creating woe binning ...\n"
     ]
    },
    {
     "name": "stderr",
     "output_type": "stream",
     "text": [
      "\r",
      " 55%|███████████████████████████████████████████▊                                    | 103/188 [08:29<07:21,  5.19s/it]"
     ]
    },
    {
     "name": "stdout",
     "output_type": "stream",
     "text": [
      "[INFO] creating woe binning ...\n"
     ]
    },
    {
     "name": "stderr",
     "output_type": "stream",
     "text": [
      "\r",
      " 55%|████████████████████████████████████████████▎                                   | 104/188 [08:33<06:26,  4.60s/it]"
     ]
    },
    {
     "name": "stdout",
     "output_type": "stream",
     "text": [
      "Error processing column B_30: sequence item 0: expected str instance, int found\n",
      "[INFO] creating woe binning ...\n"
     ]
    },
    {
     "name": "stderr",
     "output_type": "stream",
     "text": [
      "\r",
      " 56%|████████████████████████████████████████████▋                                   | 105/188 [08:38<06:43,  4.86s/it]"
     ]
    },
    {
     "name": "stdout",
     "output_type": "stream",
     "text": [
      "[INFO] creating woe binning ...\n"
     ]
    },
    {
     "name": "stderr",
     "output_type": "stream",
     "text": [
      "\r",
      " 56%|█████████████████████████████████████████████                                   | 106/188 [08:43<06:39,  4.87s/it]"
     ]
    },
    {
     "name": "stdout",
     "output_type": "stream",
     "text": [
      "[INFO] creating woe binning ...\n"
     ]
    },
    {
     "name": "stderr",
     "output_type": "stream",
     "text": [
      "\r",
      " 57%|█████████████████████████████████████████████▌                                  | 107/188 [08:47<06:13,  4.62s/it]"
     ]
    },
    {
     "name": "stdout",
     "output_type": "stream",
     "text": [
      "[INFO] creating woe binning ...\n"
     ]
    },
    {
     "name": "stderr",
     "output_type": "stream",
     "text": [
      "\r",
      " 57%|█████████████████████████████████████████████▉                                  | 108/188 [08:53<06:31,  4.89s/it]"
     ]
    },
    {
     "name": "stdout",
     "output_type": "stream",
     "text": [
      "[INFO] creating woe binning ...\n"
     ]
    },
    {
     "name": "stderr",
     "output_type": "stream",
     "text": [
      "\r",
      " 58%|██████████████████████████████████████████████▍                                 | 109/188 [09:00<07:13,  5.49s/it]"
     ]
    },
    {
     "name": "stdout",
     "output_type": "stream",
     "text": [
      "[INFO] creating woe binning ...\n"
     ]
    },
    {
     "name": "stderr",
     "output_type": "stream",
     "text": [
      "\r",
      " 59%|██████████████████████████████████████████████▊                                 | 110/188 [09:04<06:45,  5.20s/it]"
     ]
    },
    {
     "name": "stdout",
     "output_type": "stream",
     "text": [
      "[INFO] creating woe binning ...\n"
     ]
    },
    {
     "name": "stderr",
     "output_type": "stream",
     "text": [
      "\r",
      " 59%|███████████████████████████████████████████████▏                                | 111/188 [09:08<06:10,  4.82s/it]"
     ]
    },
    {
     "name": "stdout",
     "output_type": "stream",
     "text": [
      "[INFO] creating woe binning ...\n"
     ]
    },
    {
     "name": "stderr",
     "output_type": "stream",
     "text": [
      "\r",
      " 60%|███████████████████████████████████████████████▋                                | 112/188 [09:12<05:55,  4.68s/it]"
     ]
    },
    {
     "name": "stdout",
     "output_type": "stream",
     "text": [
      "[INFO] creating woe binning ...\n"
     ]
    },
    {
     "name": "stderr",
     "output_type": "stream",
     "text": [
      "\r",
      " 60%|████████████████████████████████████████████████                                | 113/188 [09:17<06:01,  4.82s/it]"
     ]
    },
    {
     "name": "stdout",
     "output_type": "stream",
     "text": [
      "[INFO] creating woe binning ...\n"
     ]
    },
    {
     "name": "stderr",
     "output_type": "stream",
     "text": [
      "\r",
      " 61%|████████████████████████████████████████████████▌                               | 114/188 [09:22<06:00,  4.88s/it]"
     ]
    },
    {
     "name": "stdout",
     "output_type": "stream",
     "text": [
      "[INFO] creating woe binning ...\n"
     ]
    },
    {
     "name": "stderr",
     "output_type": "stream",
     "text": [
      "\r",
      " 61%|████████████████████████████████████████████████▉                               | 115/188 [09:27<05:54,  4.86s/it]"
     ]
    },
    {
     "name": "stdout",
     "output_type": "stream",
     "text": [
      "[INFO] creating woe binning ...\n"
     ]
    },
    {
     "name": "stderr",
     "output_type": "stream",
     "text": [
      "\r",
      " 62%|█████████████████████████████████████████████████▎                              | 116/188 [09:33<06:02,  5.04s/it]"
     ]
    },
    {
     "name": "stdout",
     "output_type": "stream",
     "text": [
      "[INFO] creating woe binning ...\n"
     ]
    },
    {
     "name": "stderr",
     "output_type": "stream",
     "text": [
      "\r",
      " 62%|█████████████████████████████████████████████████▊                              | 117/188 [09:38<06:09,  5.21s/it]"
     ]
    },
    {
     "name": "stdout",
     "output_type": "stream",
     "text": [
      "[INFO] creating woe binning ...\n"
     ]
    },
    {
     "name": "stderr",
     "output_type": "stream",
     "text": [
      "\r",
      " 63%|██████████████████████████████████████████████████▏                             | 118/188 [09:43<05:58,  5.12s/it]"
     ]
    },
    {
     "name": "stdout",
     "output_type": "stream",
     "text": [
      "[INFO] creating woe binning ...\n"
     ]
    },
    {
     "name": "stderr",
     "output_type": "stream",
     "text": [
      "\r",
      " 63%|██████████████████████████████████████████████████▋                             | 119/188 [09:48<05:52,  5.11s/it]"
     ]
    },
    {
     "name": "stdout",
     "output_type": "stream",
     "text": [
      "[INFO] creating woe binning ...\n"
     ]
    },
    {
     "name": "stderr",
     "output_type": "stream",
     "text": [
      "\r",
      " 64%|███████████████████████████████████████████████████                             | 120/188 [09:54<05:55,  5.22s/it]"
     ]
    },
    {
     "name": "stdout",
     "output_type": "stream",
     "text": [
      "[INFO] creating woe binning ...\n"
     ]
    },
    {
     "name": "stderr",
     "output_type": "stream",
     "text": [
      "\r",
      " 64%|███████████████████████████████████████████████████▍                            | 121/188 [10:00<06:09,  5.52s/it]"
     ]
    },
    {
     "name": "stdout",
     "output_type": "stream",
     "text": [
      "[INFO] creating woe binning ...\n"
     ]
    },
    {
     "name": "stderr",
     "output_type": "stream",
     "text": [
      "\r",
      " 65%|███████████████████████████████████████████████████▉                            | 122/188 [10:05<05:59,  5.44s/it]"
     ]
    },
    {
     "name": "stdout",
     "output_type": "stream",
     "text": [
      "[INFO] creating woe binning ...\n"
     ]
    },
    {
     "name": "stderr",
     "output_type": "stream",
     "text": [
      "\r",
      " 65%|████████████████████████████████████████████████████▎                           | 123/188 [10:11<06:00,  5.55s/it]"
     ]
    },
    {
     "name": "stdout",
     "output_type": "stream",
     "text": [
      "[INFO] creating woe binning ...\n"
     ]
    },
    {
     "name": "stderr",
     "output_type": "stream",
     "text": [
      "\r",
      " 66%|████████████████████████████████████████████████████▊                           | 124/188 [10:16<05:50,  5.48s/it]"
     ]
    },
    {
     "name": "stdout",
     "output_type": "stream",
     "text": [
      "[INFO] creating woe binning ...\n"
     ]
    },
    {
     "name": "stderr",
     "output_type": "stream",
     "text": [
      "\r",
      " 66%|█████████████████████████████████████████████████████▏                          | 125/188 [10:22<05:41,  5.42s/it]"
     ]
    },
    {
     "name": "stdout",
     "output_type": "stream",
     "text": [
      "[INFO] creating woe binning ...\n"
     ]
    },
    {
     "name": "stderr",
     "output_type": "stream",
     "text": [
      "\r",
      " 67%|█████████████████████████████████████████████████████▌                          | 126/188 [10:27<05:30,  5.33s/it]"
     ]
    },
    {
     "name": "stdout",
     "output_type": "stream",
     "text": [
      "[INFO] creating woe binning ...\n"
     ]
    },
    {
     "name": "stderr",
     "output_type": "stream",
     "text": [
      "\r",
      " 68%|██████████████████████████████████████████████████████                          | 127/188 [10:33<05:42,  5.62s/it]"
     ]
    },
    {
     "name": "stdout",
     "output_type": "stream",
     "text": [
      "[INFO] creating woe binning ...\n"
     ]
    },
    {
     "name": "stderr",
     "output_type": "stream",
     "text": [
      "\r",
      " 68%|██████████████████████████████████████████████████████▍                         | 128/188 [10:38<05:26,  5.45s/it]"
     ]
    },
    {
     "name": "stdout",
     "output_type": "stream",
     "text": [
      "[INFO] creating woe binning ...\n"
     ]
    },
    {
     "name": "stderr",
     "output_type": "stream",
     "text": [
      "\r",
      " 69%|██████████████████████████████████████████████████████▉                         | 129/188 [10:44<05:23,  5.48s/it]"
     ]
    },
    {
     "name": "stdout",
     "output_type": "stream",
     "text": [
      "[INFO] creating woe binning ...\n"
     ]
    },
    {
     "name": "stderr",
     "output_type": "stream",
     "text": [
      "\r",
      " 69%|███████████████████████████████████████████████████████▎                        | 130/188 [10:49<05:15,  5.44s/it]"
     ]
    },
    {
     "name": "stdout",
     "output_type": "stream",
     "text": [
      "[INFO] creating woe binning ...\n"
     ]
    },
    {
     "name": "stderr",
     "output_type": "stream",
     "text": [
      "\r",
      " 70%|███████████████████████████████████████████████████████▋                        | 131/188 [10:55<05:13,  5.50s/it]"
     ]
    },
    {
     "name": "stdout",
     "output_type": "stream",
     "text": [
      "[INFO] creating woe binning ...\n"
     ]
    },
    {
     "name": "stderr",
     "output_type": "stream",
     "text": [
      "\r",
      " 70%|████████████████████████████████████████████████████████▏                       | 132/188 [11:00<05:07,  5.50s/it]"
     ]
    },
    {
     "name": "stdout",
     "output_type": "stream",
     "text": [
      "[INFO] creating woe binning ...\n"
     ]
    },
    {
     "name": "stderr",
     "output_type": "stream",
     "text": [
      "\r",
      " 71%|████████████████████████████████████████████████████████▌                       | 133/188 [11:06<05:02,  5.50s/it]"
     ]
    },
    {
     "name": "stdout",
     "output_type": "stream",
     "text": [
      "[INFO] creating woe binning ...\n"
     ]
    },
    {
     "name": "stderr",
     "output_type": "stream",
     "text": [
      "\r",
      " 71%|█████████████████████████████████████████████████████████                       | 134/188 [11:11<04:49,  5.36s/it]"
     ]
    },
    {
     "name": "stdout",
     "output_type": "stream",
     "text": [
      "[INFO] creating woe binning ...\n"
     ]
    },
    {
     "name": "stderr",
     "output_type": "stream",
     "text": [
      "\r",
      " 72%|█████████████████████████████████████████████████████████▍                      | 135/188 [11:15<04:23,  4.97s/it]"
     ]
    },
    {
     "name": "stdout",
     "output_type": "stream",
     "text": [
      "[INFO] creating woe binning ...\n"
     ]
    },
    {
     "name": "stderr",
     "output_type": "stream",
     "text": [
      "\r",
      " 72%|█████████████████████████████████████████████████████████▊                      | 136/188 [11:19<04:00,  4.62s/it]"
     ]
    },
    {
     "name": "stdout",
     "output_type": "stream",
     "text": [
      "[INFO] creating woe binning ...\n"
     ]
    },
    {
     "name": "stderr",
     "output_type": "stream",
     "text": [
      "\r",
      " 73%|██████████████████████████████████████████████████████████▎                     | 137/188 [11:22<03:42,  4.35s/it]"
     ]
    },
    {
     "name": "stdout",
     "output_type": "stream",
     "text": [
      "[INFO] creating woe binning ...\n"
     ]
    },
    {
     "name": "stderr",
     "output_type": "stream",
     "text": [
      "\r",
      " 73%|██████████████████████████████████████████████████████████▋                     | 138/188 [11:26<03:24,  4.08s/it]"
     ]
    },
    {
     "name": "stdout",
     "output_type": "stream",
     "text": [
      "[INFO] creating woe binning ...\n"
     ]
    },
    {
     "name": "stderr",
     "output_type": "stream",
     "text": [
      "\r",
      " 74%|███████████████████████████████████████████████████████████▏                    | 139/188 [11:31<03:39,  4.47s/it]"
     ]
    },
    {
     "name": "stdout",
     "output_type": "stream",
     "text": [
      "[INFO] creating woe binning ...\n"
     ]
    },
    {
     "name": "stderr",
     "output_type": "stream",
     "text": [
      "\r",
      " 74%|███████████████████████████████████████████████████████████▌                    | 140/188 [11:36<03:42,  4.63s/it]"
     ]
    },
    {
     "name": "stdout",
     "output_type": "stream",
     "text": [
      "[INFO] creating woe binning ...\n"
     ]
    },
    {
     "name": "stderr",
     "output_type": "stream",
     "text": [
      "\r",
      " 75%|████████████████████████████████████████████████████████████                    | 141/188 [11:42<03:56,  5.02s/it]"
     ]
    },
    {
     "name": "stdout",
     "output_type": "stream",
     "text": [
      "[INFO] creating woe binning ...\n"
     ]
    },
    {
     "name": "stderr",
     "output_type": "stream",
     "text": [
      "\r",
      " 76%|████████████████████████████████████████████████████████████▍                   | 142/188 [11:47<03:42,  4.84s/it]"
     ]
    },
    {
     "name": "stdout",
     "output_type": "stream",
     "text": [
      "[INFO] creating woe binning ...\n"
     ]
    },
    {
     "name": "stderr",
     "output_type": "stream",
     "text": [
      "\r",
      " 76%|████████████████████████████████████████████████████████████▊                   | 143/188 [11:51<03:28,  4.63s/it]"
     ]
    },
    {
     "name": "stdout",
     "output_type": "stream",
     "text": [
      "[INFO] creating woe binning ...\n"
     ]
    },
    {
     "name": "stderr",
     "output_type": "stream",
     "text": [
      "\r",
      " 77%|█████████████████████████████████████████████████████████████▎                  | 144/188 [11:53<02:53,  3.94s/it]"
     ]
    },
    {
     "name": "stdout",
     "output_type": "stream",
     "text": [
      "Error processing column B_38: sequence item 0: expected str instance, int found\n",
      "[INFO] creating woe binning ...\n"
     ]
    },
    {
     "name": "stderr",
     "output_type": "stream",
     "text": [
      "\r",
      " 77%|█████████████████████████████████████████████████████████████▋                  | 145/188 [11:56<02:34,  3.59s/it]"
     ]
    },
    {
     "name": "stdout",
     "output_type": "stream",
     "text": [
      "[INFO] creating woe binning ...\n"
     ]
    },
    {
     "name": "stderr",
     "output_type": "stream",
     "text": [
      "\r",
      " 78%|██████████████████████████████████████████████████████████████▏                 | 146/188 [12:00<02:41,  3.85s/it]"
     ]
    },
    {
     "name": "stdout",
     "output_type": "stream",
     "text": [
      "[INFO] creating woe binning ...\n"
     ]
    },
    {
     "name": "stderr",
     "output_type": "stream",
     "text": [
      "\r",
      " 78%|██████████████████████████████████████████████████████████████▌                 | 147/188 [12:03<02:22,  3.48s/it]"
     ]
    },
    {
     "name": "stdout",
     "output_type": "stream",
     "text": [
      "[INFO] creating woe binning ...\n"
     ]
    },
    {
     "name": "stderr",
     "output_type": "stream",
     "text": [
      "\r",
      " 79%|██████████████████████████████████████████████████████████████▉                 | 148/188 [12:06<02:12,  3.31s/it]"
     ]
    },
    {
     "name": "stdout",
     "output_type": "stream",
     "text": [
      "[INFO] creating woe binning ...\n"
     ]
    },
    {
     "name": "stderr",
     "output_type": "stream",
     "text": [
      "\r",
      " 79%|███████████████████████████████████████████████████████████████▍                | 149/188 [12:09<02:04,  3.19s/it]"
     ]
    },
    {
     "name": "stdout",
     "output_type": "stream",
     "text": [
      "[INFO] creating woe binning ...\n"
     ]
    },
    {
     "name": "stderr",
     "output_type": "stream",
     "text": [
      "\r",
      " 80%|███████████████████████████████████████████████████████████████▊                | 150/188 [12:12<02:01,  3.20s/it]"
     ]
    },
    {
     "name": "stdout",
     "output_type": "stream",
     "text": [
      "[INFO] creating woe binning ...\n"
     ]
    },
    {
     "name": "stderr",
     "output_type": "stream",
     "text": [
      "\r",
      " 80%|████████████████████████████████████████████████████████████████▎               | 151/188 [12:15<02:02,  3.31s/it]"
     ]
    },
    {
     "name": "stdout",
     "output_type": "stream",
     "text": [
      "[INFO] creating woe binning ...\n"
     ]
    },
    {
     "name": "stderr",
     "output_type": "stream",
     "text": [
      "\r",
      " 81%|████████████████████████████████████████████████████████████████▋               | 152/188 [12:19<02:01,  3.37s/it]"
     ]
    },
    {
     "name": "stdout",
     "output_type": "stream",
     "text": [
      "[INFO] creating woe binning ...\n"
     ]
    },
    {
     "name": "stderr",
     "output_type": "stream",
     "text": [
      "\r",
      " 81%|█████████████████████████████████████████████████████████████████               | 153/188 [12:22<01:58,  3.38s/it]"
     ]
    },
    {
     "name": "stdout",
     "output_type": "stream",
     "text": [
      "[INFO] creating woe binning ...\n"
     ]
    },
    {
     "name": "stderr",
     "output_type": "stream",
     "text": [
      "\r",
      " 82%|█████████████████████████████████████████████████████████████████▌              | 154/188 [12:25<01:44,  3.06s/it]"
     ]
    },
    {
     "name": "stdout",
     "output_type": "stream",
     "text": [
      "Error processing column D_114: sequence item 0: expected str instance, int found\n",
      "[INFO] creating woe binning ...\n"
     ]
    },
    {
     "name": "stderr",
     "output_type": "stream",
     "text": [
      "\r",
      " 82%|█████████████████████████████████████████████████████████████████▉              | 155/188 [12:28<01:44,  3.16s/it]"
     ]
    },
    {
     "name": "stdout",
     "output_type": "stream",
     "text": [
      "[INFO] creating woe binning ...\n"
     ]
    },
    {
     "name": "stderr",
     "output_type": "stream",
     "text": [
      "\r",
      " 83%|██████████████████████████████████████████████████████████████████▍             | 156/188 [12:31<01:35,  2.98s/it]"
     ]
    },
    {
     "name": "stdout",
     "output_type": "stream",
     "text": [
      "Error processing column D_116: sequence item 0: expected str instance, int found\n",
      "[INFO] creating woe binning ...\n"
     ]
    },
    {
     "name": "stderr",
     "output_type": "stream",
     "text": [
      "\r",
      " 84%|██████████████████████████████████████████████████████████████████▊             | 157/188 [12:33<01:27,  2.84s/it]"
     ]
    },
    {
     "name": "stdout",
     "output_type": "stream",
     "text": [
      "Error processing column D_117: sequence item 0: expected str instance, int found\n",
      "[INFO] creating woe binning ...\n"
     ]
    },
    {
     "name": "stderr",
     "output_type": "stream",
     "text": [
      "\r",
      " 84%|███████████████████████████████████████████████████████████████████▏            | 158/188 [12:37<01:31,  3.05s/it]"
     ]
    },
    {
     "name": "stdout",
     "output_type": "stream",
     "text": [
      "[INFO] creating woe binning ...\n"
     ]
    },
    {
     "name": "stderr",
     "output_type": "stream",
     "text": [
      "\r",
      " 85%|███████████████████████████████████████████████████████████████████▋            | 159/188 [12:40<01:33,  3.22s/it]"
     ]
    },
    {
     "name": "stdout",
     "output_type": "stream",
     "text": [
      "[INFO] creating woe binning ...\n"
     ]
    },
    {
     "name": "stderr",
     "output_type": "stream",
     "text": [
      "\r",
      " 85%|████████████████████████████████████████████████████████████████████            | 160/188 [12:43<01:24,  3.03s/it]"
     ]
    },
    {
     "name": "stdout",
     "output_type": "stream",
     "text": [
      "Error processing column D_120: sequence item 0: expected str instance, int found\n",
      "[INFO] creating woe binning ...\n"
     ]
    },
    {
     "name": "stderr",
     "output_type": "stream",
     "text": [
      "\r",
      " 86%|████████████████████████████████████████████████████████████████████▌           | 161/188 [12:47<01:26,  3.22s/it]"
     ]
    },
    {
     "name": "stdout",
     "output_type": "stream",
     "text": [
      "[INFO] creating woe binning ...\n"
     ]
    },
    {
     "name": "stderr",
     "output_type": "stream",
     "text": [
      "\r",
      " 86%|████████████████████████████████████████████████████████████████████▉           | 162/188 [12:50<01:24,  3.25s/it]"
     ]
    },
    {
     "name": "stdout",
     "output_type": "stream",
     "text": [
      "[INFO] creating woe binning ...\n"
     ]
    },
    {
     "name": "stderr",
     "output_type": "stream",
     "text": [
      "\r",
      " 87%|█████████████████████████████████████████████████████████████████████▎          | 163/188 [12:54<01:26,  3.45s/it]"
     ]
    },
    {
     "name": "stdout",
     "output_type": "stream",
     "text": [
      "[INFO] creating woe binning ...\n"
     ]
    },
    {
     "name": "stderr",
     "output_type": "stream",
     "text": [
      "\r",
      " 87%|█████████████████████████████████████████████████████████████████████▊          | 164/188 [12:58<01:26,  3.61s/it]"
     ]
    },
    {
     "name": "stdout",
     "output_type": "stream",
     "text": [
      "[INFO] creating woe binning ...\n"
     ]
    },
    {
     "name": "stderr",
     "output_type": "stream",
     "text": [
      "\r",
      " 88%|██████████████████████████████████████████████████████████████████████▏         | 165/188 [13:01<01:23,  3.61s/it]"
     ]
    },
    {
     "name": "stdout",
     "output_type": "stream",
     "text": [
      "[INFO] creating woe binning ...\n"
     ]
    },
    {
     "name": "stderr",
     "output_type": "stream",
     "text": [
      "\r",
      " 88%|██████████████████████████████████████████████████████████████████████▋         | 166/188 [13:04<01:12,  3.27s/it]"
     ]
    },
    {
     "name": "stdout",
     "output_type": "stream",
     "text": [
      "Error processing column D_126: sequence item 0: expected str instance, int found\n",
      "[INFO] creating woe binning ...\n"
     ]
    },
    {
     "name": "stderr",
     "output_type": "stream",
     "text": [
      "\r",
      " 89%|███████████████████████████████████████████████████████████████████████         | 167/188 [13:07<01:08,  3.26s/it]"
     ]
    },
    {
     "name": "stdout",
     "output_type": "stream",
     "text": [
      "[INFO] creating woe binning ...\n"
     ]
    },
    {
     "name": "stderr",
     "output_type": "stream",
     "text": [
      "\r",
      " 89%|███████████████████████████████████████████████████████████████████████▍        | 168/188 [13:11<01:06,  3.34s/it]"
     ]
    },
    {
     "name": "stdout",
     "output_type": "stream",
     "text": [
      "[INFO] creating woe binning ...\n"
     ]
    },
    {
     "name": "stderr",
     "output_type": "stream",
     "text": [
      "\r",
      " 90%|███████████████████████████████████████████████████████████████████████▉        | 169/188 [13:14<01:03,  3.32s/it]"
     ]
    },
    {
     "name": "stdout",
     "output_type": "stream",
     "text": [
      "[INFO] creating woe binning ...\n"
     ]
    },
    {
     "name": "stderr",
     "output_type": "stream",
     "text": [
      "\r",
      " 90%|████████████████████████████████████████████████████████████████████████▎       | 170/188 [13:18<01:04,  3.61s/it]"
     ]
    },
    {
     "name": "stdout",
     "output_type": "stream",
     "text": [
      "[INFO] creating woe binning ...\n"
     ]
    },
    {
     "name": "stderr",
     "output_type": "stream",
     "text": [
      "\r",
      " 91%|████████████████████████████████████████████████████████████████████████▊       | 171/188 [13:23<01:06,  3.89s/it]"
     ]
    },
    {
     "name": "stdout",
     "output_type": "stream",
     "text": [
      "[INFO] creating woe binning ...\n"
     ]
    },
    {
     "name": "stderr",
     "output_type": "stream",
     "text": [
      "\r",
      " 91%|█████████████████████████████████████████████████████████████████████████▏      | 172/188 [13:27<01:05,  4.12s/it]"
     ]
    },
    {
     "name": "stdout",
     "output_type": "stream",
     "text": [
      "[INFO] creating woe binning ...\n"
     ]
    },
    {
     "name": "stderr",
     "output_type": "stream",
     "text": [
      "\r",
      " 92%|█████████████████████████████████████████████████████████████████████████▌      | 173/188 [13:31<01:01,  4.10s/it]"
     ]
    },
    {
     "name": "stdout",
     "output_type": "stream",
     "text": [
      "[INFO] creating woe binning ...\n"
     ]
    },
    {
     "name": "stderr",
     "output_type": "stream",
     "text": [
      "\r",
      " 93%|██████████████████████████████████████████████████████████████████████████      | 174/188 [13:34<00:52,  3.79s/it]"
     ]
    },
    {
     "name": "stdout",
     "output_type": "stream",
     "text": [
      "[INFO] creating woe binning ...\n"
     ]
    },
    {
     "name": "stderr",
     "output_type": "stream",
     "text": [
      "\r",
      " 93%|██████████████████████████████████████████████████████████████████████████▍     | 175/188 [13:38<00:48,  3.72s/it]"
     ]
    },
    {
     "name": "stdout",
     "output_type": "stream",
     "text": [
      "[INFO] creating woe binning ...\n"
     ]
    },
    {
     "name": "stderr",
     "output_type": "stream",
     "text": [
      "\r",
      " 94%|██████████████████████████████████████████████████████████████████████████▉     | 176/188 [13:42<00:44,  3.73s/it]"
     ]
    },
    {
     "name": "stdout",
     "output_type": "stream",
     "text": [
      "[INFO] creating woe binning ...\n"
     ]
    },
    {
     "name": "stderr",
     "output_type": "stream",
     "text": [
      "\r",
      " 94%|███████████████████████████████████████████████████████████████████████████▎    | 177/188 [13:45<00:38,  3.49s/it]"
     ]
    },
    {
     "name": "stdout",
     "output_type": "stream",
     "text": [
      "[INFO] creating woe binning ...\n"
     ]
    },
    {
     "name": "stderr",
     "output_type": "stream",
     "text": [
      "\r",
      " 95%|███████████████████████████████████████████████████████████████████████████▋    | 178/188 [13:48<00:34,  3.47s/it]"
     ]
    },
    {
     "name": "stdout",
     "output_type": "stream",
     "text": [
      "[INFO] creating woe binning ...\n"
     ]
    },
    {
     "name": "stderr",
     "output_type": "stream",
     "text": [
      "\r",
      " 95%|████████████████████████████████████████████████████████████████████████████▏   | 179/188 [13:51<00:29,  3.25s/it]"
     ]
    },
    {
     "name": "stdout",
     "output_type": "stream",
     "text": [
      "[INFO] creating woe binning ...\n"
     ]
    },
    {
     "name": "stderr",
     "output_type": "stream",
     "text": [
      "\r",
      " 96%|████████████████████████████████████████████████████████████████████████████▌   | 180/188 [13:54<00:26,  3.27s/it]"
     ]
    },
    {
     "name": "stdout",
     "output_type": "stream",
     "text": [
      "[INFO] creating woe binning ...\n"
     ]
    },
    {
     "name": "stderr",
     "output_type": "stream",
     "text": [
      "\r",
      " 96%|█████████████████████████████████████████████████████████████████████████████   | 181/188 [13:57<00:21,  3.13s/it]"
     ]
    },
    {
     "name": "stdout",
     "output_type": "stream",
     "text": [
      "[INFO] creating woe binning ...\n"
     ]
    },
    {
     "name": "stderr",
     "output_type": "stream",
     "text": [
      "\r",
      " 97%|█████████████████████████████████████████████████████████████████████████████▍  | 182/188 [14:01<00:21,  3.53s/it]"
     ]
    },
    {
     "name": "stdout",
     "output_type": "stream",
     "text": [
      "[INFO] creating woe binning ...\n"
     ]
    },
    {
     "name": "stderr",
     "output_type": "stream",
     "text": [
      "\r",
      " 97%|█████████████████████████████████████████████████████████████████████████████▊  | 183/188 [14:05<00:17,  3.58s/it]"
     ]
    },
    {
     "name": "stdout",
     "output_type": "stream",
     "text": [
      "[INFO] creating woe binning ...\n"
     ]
    },
    {
     "name": "stderr",
     "output_type": "stream",
     "text": [
      "\r",
      " 98%|██████████████████████████████████████████████████████████████████████████████▎ | 184/188 [14:09<00:15,  3.78s/it]"
     ]
    },
    {
     "name": "stdout",
     "output_type": "stream",
     "text": [
      "[INFO] creating woe binning ...\n"
     ]
    },
    {
     "name": "stderr",
     "output_type": "stream",
     "text": [
      "\r",
      " 98%|██████████████████████████████████████████████████████████████████████████████▋ | 185/188 [14:12<00:10,  3.56s/it]"
     ]
    },
    {
     "name": "stdout",
     "output_type": "stream",
     "text": [
      "[INFO] creating woe binning ...\n"
     ]
    },
    {
     "name": "stderr",
     "output_type": "stream",
     "text": [
      "\r",
      " 99%|███████████████████████████████████████████████████████████████████████████████▏| 186/188 [14:16<00:07,  3.71s/it]"
     ]
    },
    {
     "name": "stdout",
     "output_type": "stream",
     "text": [
      "[INFO] creating woe binning ...\n"
     ]
    },
    {
     "name": "stderr",
     "output_type": "stream",
     "text": [
      "\r",
      " 99%|███████████████████████████████████████████████████████████████████████████████▌| 187/188 [14:20<00:03,  3.75s/it]"
     ]
    },
    {
     "name": "stdout",
     "output_type": "stream",
     "text": [
      "[INFO] creating woe binning ...\n"
     ]
    },
    {
     "name": "stderr",
     "output_type": "stream",
     "text": [
      "100%|████████████████████████████████████████████████████████████████████████████████| 188/188 [14:24<00:00,  4.60s/it]\n"
     ]
    }
   ],
   "source": [
    "# Ensure all column names are strings\n",
    "train_dataframe.columns = train_dataframe.columns.astype(str)\n",
    "\n",
    "# Ensure target column is of type integer\n",
    "train_dataframe['target'] = train_dataframe['target'].astype(int)\n",
    "\n",
    "iv_score_dict = {}\n",
    "\n",
    "for col in tqdm(train_cols):\n",
    "    try:\n",
    "        # Perform binning using scorecardpy\n",
    "        bins = sc.woebin(train_dataframe[[col, 'target']], y='target')\n",
    "        iv = bins[col]['total_iv'].values[0]\n",
    "        iv_score_dict[col] = iv\n",
    "    except Exception as e:\n",
    "        print(f\"Error processing column {col}: {e}\")\n"
   ]
  },
  {
   "cell_type": "code",
   "execution_count": 43,
   "id": "21b1b7ab",
   "metadata": {},
   "outputs": [],
   "source": [
    "#SAVE iv_score_dict\n",
    "with open(\"iv_score_dict.json\", \"w\") as outfile: \n",
    "    json.dump(iv_score_dict, outfile)"
   ]
  },
  {
   "cell_type": "code",
   "execution_count": null,
   "id": "4ad0a4bf",
   "metadata": {},
   "outputs": [],
   "source": [
    "#READ iv_score_dict.json \n",
    "#with open('iv_score_dict.json') as json_file:\n",
    "    #iv_score_dict = json.load(json_file)"
   ]
  },
  {
   "cell_type": "code",
   "execution_count": 56,
   "id": "3945abd4",
   "metadata": {},
   "outputs": [],
   "source": [
    "# Convert to a pandas Series and sort\n",
    "iv_score_dataframe = pd.Series(iv_score_dict)\n",
    "iv_score_dataframe.sort_values(ascending=False, inplace=True)"
   ]
  },
  {
   "cell_type": "code",
   "execution_count": 58,
   "id": "f2cd2ea3",
   "metadata": {},
   "outputs": [
    {
     "data": {
      "image/png": "[encoded data removed]",
      "text/plain": [
       "<Figure size 2500x900 with 2 Axes>"
      ]
     },
     "metadata": {},
     "output_type": "display_data"
    }
   ],
   "source": [
    "selected_features = iv_score_dataframe[iv_score_dataframe > 0.5].index.values  \n",
    "cat_cols = [col for col in cat_cols if col in selected_features]  \n",
    "train_cols = [col for col in train_dataframe.columns if col in selected_features] \n",
    "\n",
    "top_cols = [col for col in selected_features[:20] if col in train_cols]  \n",
    "corr_df = train_dataframe[top_cols].corr()  \n",
    "plt.figure(figsize=(25, 9))  \n",
    "sns.heatmap(corr_df,annot=True ,cmap=sns.color_palette(\"BrBG\",2));  \n",
    "plt.show()  "
   ]
  },
  {
   "cell_type": "code",
   "execution_count": 59,
   "id": "760cf67a",
   "metadata": {},
   "outputs": [
    {
     "data": {
      "text/html": [
       "<div>\n",
       "<style scoped>\n",
       "    .dataframe tbody tr th:only-of-type {\n",
       "        vertical-align: middle;\n",
       "    }\n",
       "\n",
       "    .dataframe tbody tr th {\n",
       "        vertical-align: top;\n",
       "    }\n",
       "\n",
       "    .dataframe thead th {\n",
       "        text-align: right;\n",
       "    }\n",
       "</style>\n",
       "<table border=\"1\" class=\"dataframe\">\n",
       "  <thead>\n",
       "    <tr style=\"text-align: right;\">\n",
       "      <th></th>\n",
       "      <th>row</th>\n",
       "      <th>col</th>\n",
       "      <th>corr</th>\n",
       "      <th>row_iv</th>\n",
       "      <th>col_iv</th>\n",
       "      <th>drop_feature</th>\n",
       "    </tr>\n",
       "  </thead>\n",
       "  <tbody>\n",
       "    <tr>\n",
       "      <th>1432</th>\n",
       "      <td>D_62</td>\n",
       "      <td>D_77</td>\n",
       "      <td>0.999824</td>\n",
       "      <td>1.565751</td>\n",
       "      <td>1.144769</td>\n",
       "      <td>D_77</td>\n",
       "    </tr>\n",
       "    <tr>\n",
       "      <th>138</th>\n",
       "      <td>B_1</td>\n",
       "      <td>B_11</td>\n",
       "      <td>0.995629</td>\n",
       "      <td>1.688855</td>\n",
       "      <td>1.614301</td>\n",
       "      <td>B_11</td>\n",
       "    </tr>\n",
       "    <tr>\n",
       "      <th>850</th>\n",
       "      <td>B_7</td>\n",
       "      <td>B_23</td>\n",
       "      <td>0.994963</td>\n",
       "      <td>1.990450</td>\n",
       "      <td>1.940289</td>\n",
       "      <td>B_23</td>\n",
       "    </tr>\n",
       "    <tr>\n",
       "      <th>171</th>\n",
       "      <td>B_1</td>\n",
       "      <td>B_37</td>\n",
       "      <td>0.992982</td>\n",
       "      <td>1.688855</td>\n",
       "      <td>1.662309</td>\n",
       "      <td>B_37</td>\n",
       "    </tr>\n",
       "    <tr>\n",
       "      <th>1650</th>\n",
       "      <td>D_74</td>\n",
       "      <td>D_75</td>\n",
       "      <td>0.988533</td>\n",
       "      <td>1.508405</td>\n",
       "      <td>2.035478</td>\n",
       "      <td>D_74</td>\n",
       "    </tr>\n",
       "    <tr>\n",
       "      <th>1172</th>\n",
       "      <td>B_11</td>\n",
       "      <td>B_37</td>\n",
       "      <td>0.988209</td>\n",
       "      <td>1.614301</td>\n",
       "      <td>1.662309</td>\n",
       "      <td>B_11</td>\n",
       "    </tr>\n",
       "    <tr>\n",
       "      <th>1320</th>\n",
       "      <td>D_58</td>\n",
       "      <td>D_75</td>\n",
       "      <td>0.927898</td>\n",
       "      <td>1.445718</td>\n",
       "      <td>2.035478</td>\n",
       "      <td>D_58</td>\n",
       "    </tr>\n",
       "    <tr>\n",
       "      <th>1319</th>\n",
       "      <td>D_58</td>\n",
       "      <td>D_74</td>\n",
       "      <td>0.923637</td>\n",
       "      <td>1.445718</td>\n",
       "      <td>1.508405</td>\n",
       "      <td>D_58</td>\n",
       "    </tr>\n",
       "    <tr>\n",
       "      <th>223</th>\n",
       "      <td>B_2</td>\n",
       "      <td>B_33</td>\n",
       "      <td>0.918636</td>\n",
       "      <td>1.820367</td>\n",
       "      <td>1.638341</td>\n",
       "      <td>B_33</td>\n",
       "    </tr>\n",
       "    <tr>\n",
       "      <th>305</th>\n",
       "      <td>S_3</td>\n",
       "      <td>S_7</td>\n",
       "      <td>0.909011</td>\n",
       "      <td>0.933527</td>\n",
       "      <td>0.868302</td>\n",
       "      <td>S_7</td>\n",
       "    </tr>\n",
       "    <tr>\n",
       "      <th>1473</th>\n",
       "      <td>B_16</td>\n",
       "      <td>B_20</td>\n",
       "      <td>0.897838</td>\n",
       "      <td>1.239221</td>\n",
       "      <td>1.550691</td>\n",
       "      <td>B_16</td>\n",
       "    </tr>\n",
       "    <tr>\n",
       "      <th>747</th>\n",
       "      <td>D_48</td>\n",
       "      <td>D_55</td>\n",
       "      <td>0.884178</td>\n",
       "      <td>2.293369</td>\n",
       "      <td>1.692322</td>\n",
       "      <td>D_55</td>\n",
       "    </tr>\n",
       "    <tr>\n",
       "      <th>1532</th>\n",
       "      <td>B_18</td>\n",
       "      <td>B_33</td>\n",
       "      <td>0.863453</td>\n",
       "      <td>2.190930</td>\n",
       "      <td>1.638341</td>\n",
       "      <td>B_33</td>\n",
       "    </tr>\n",
       "    <tr>\n",
       "      <th>207</th>\n",
       "      <td>B_2</td>\n",
       "      <td>B_18</td>\n",
       "      <td>0.860164</td>\n",
       "      <td>1.820367</td>\n",
       "      <td>2.190930</td>\n",
       "      <td>B_2</td>\n",
       "    </tr>\n",
       "    <tr>\n",
       "      <th>752</th>\n",
       "      <td>D_48</td>\n",
       "      <td>D_61</td>\n",
       "      <td>0.842864</td>\n",
       "      <td>2.293369</td>\n",
       "      <td>1.992521</td>\n",
       "      <td>D_61</td>\n",
       "    </tr>\n",
       "    <tr>\n",
       "      <th>1246</th>\n",
       "      <td>D_55</td>\n",
       "      <td>D_61</td>\n",
       "      <td>0.811887</td>\n",
       "      <td>1.692322</td>\n",
       "      <td>1.992521</td>\n",
       "      <td>D_55</td>\n",
       "    </tr>\n",
       "  </tbody>\n",
       "</table>\n",
       "</div>"
      ],
      "text/plain": [
       "       row   col      corr    row_iv    col_iv drop_feature\n",
       "1432  D_62  D_77  0.999824  1.565751  1.144769         D_77\n",
       "138    B_1  B_11  0.995629  1.688855  1.614301         B_11\n",
       "850    B_7  B_23  0.994963  1.990450  1.940289         B_23\n",
       "171    B_1  B_37  0.992982  1.688855  1.662309         B_37\n",
       "1650  D_74  D_75  0.988533  1.508405  2.035478         D_74\n",
       "1172  B_11  B_37  0.988209  1.614301  1.662309         B_11\n",
       "1320  D_58  D_75  0.927898  1.445718  2.035478         D_58\n",
       "1319  D_58  D_74  0.923637  1.445718  1.508405         D_58\n",
       "223    B_2  B_33  0.918636  1.820367  1.638341         B_33\n",
       "305    S_3   S_7  0.909011  0.933527  0.868302          S_7\n",
       "1473  B_16  B_20  0.897838  1.239221  1.550691         B_16\n",
       "747   D_48  D_55  0.884178  2.293369  1.692322         D_55\n",
       "1532  B_18  B_33  0.863453  2.190930  1.638341         B_33\n",
       "207    B_2  B_18  0.860164  1.820367  2.190930          B_2\n",
       "752   D_48  D_61  0.842864  2.293369  1.992521         D_61\n",
       "1246  D_55  D_61  0.811887  1.692322  1.992521         D_55"
      ]
     },
     "execution_count": 59,
     "metadata": {},
     "output_type": "execute_result"
    }
   ],
   "source": [
    "def drop_feature_selection(row, col, corr, row_iv, col_iv):  \n",
    "    if row_iv >= col_iv:  \n",
    "        return col  \n",
    "    else:  \n",
    "        return row  \n",
    "    \n",
    "cor_matrix = train_dataframe[train_cols].corr().abs()  \n",
    "upper_tri = cor_matrix.where(np.triu(np.ones(cor_matrix.shape),k=1).astype(np.bool_))  \n",
    "corr_df = upper_tri.stack().reset_index()  \n",
    "corr_df.columns = ['row', 'col', 'corr']  \n",
    "corr_df = corr_df.drop_duplicates()  \n",
    "corr_df = corr_df.sort_values('corr', ascending=False)  \n",
    "corr_df = corr_df.query(\"corr >= 0.8\")  \n",
    "corr_df['row_iv'] = corr_df['row'].map(iv_score_dict)  \n",
    "corr_df['col_iv'] = corr_df['col'].map(iv_score_dict)  \n",
    "  \n",
    "corr_df['drop_feature'] = corr_df.apply(lambda x: drop_feature_selection(x['row'], x['col'], x['corr'], x['row_iv'], x['col_iv']), axis=1)  \n",
    "corr_df  "
   ]
  },
  {
   "cell_type": "code",
   "execution_count": 60,
   "id": "a5ad27bc",
   "metadata": {},
   "outputs": [],
   "source": [
    "corr_drop_features = corr_df['drop_feature'].unique().tolist() \n",
    "\n",
    "# train valid split  \n",
    "train_data, valid_data = model_selection.train_test_split(train_dataframe, test_size=0.3, random_state=42, shuffle=True, stratify=train_dataframe['target'])  \n",
    "train_data.shape, valid_data.shape \n",
    "\n",
    "selected_features = [col for col in selected_features if col not in corr_drop_features]  \n",
    "cat_cols = [col for col in cat_cols if col in selected_features]  \n",
    "train_cols = [col for col in train_dataframe.columns if col in selected_features]  \n",
    "\n",
    "X_train = train_data[train_cols].copy()  \n",
    "y_train = train_data[target_col].copy()  \n",
    "  \n",
    "X_valid = valid_data[train_cols].copy()  \n",
    "y_valid = valid_data[target_col].copy()  \n",
    "  \n",
    "X_test = test_dataframe[train_cols].copy()  "
   ]
  },
  {
   "cell_type": "markdown",
   "id": "c6a59769",
   "metadata": {},
   "source": [
    "### Mean Imputation of Blank Data"
   ]
  },
  {
   "cell_type": "code",
   "execution_count": 61,
   "id": "11015b9f",
   "metadata": {},
   "outputs": [],
   "source": [
    "from sklearn.impute import SimpleImputer\n",
    "\n",
    "# Initialize the imputer\n",
    "imputer = SimpleImputer(strategy='mean')\n",
    "\n",
    "# Impute missing values in X_train and X_valid\n",
    "X_train = imputer.fit_transform(X_train)\n",
    "X_valid = imputer.transform(X_valid)\n",
    "X_test = imputer.transform(X_test)"
   ]
  },
  {
   "cell_type": "markdown",
   "id": "a46205af",
   "metadata": {},
   "source": [
    "## MACHINE LEARNING ALGORITHM - APPLICATION"
   ]
  },
  {
   "cell_type": "markdown",
   "id": "6a3a6c14",
   "metadata": {},
   "source": [
    "### Logistic Regression"
   ]
  },
  {
   "cell_type": "code",
   "execution_count": 62,
   "id": "3bea3716",
   "metadata": {},
   "outputs": [
    {
     "name": "stdout",
     "output_type": "stream",
     "text": [
      "Validation Accuracy: 0.8904\n",
      "Validation ROC AUC: 0.9520\n",
      "Confusion Matrix:\n",
      "[[95587  6439]\n",
      " [ 8648 27000]]\n",
      "Classification Report:\n",
      "              precision    recall  f1-score   support\n",
      "\n",
      "           0       0.92      0.94      0.93    102026\n",
      "           1       0.81      0.76      0.78     35648\n",
      "\n",
      "    accuracy                           0.89    137674\n",
      "   macro avg       0.86      0.85      0.85    137674\n",
      "weighted avg       0.89      0.89      0.89    137674\n",
      "\n"
     ]
    }
   ],
   "source": [
    "from sklearn.linear_model import LogisticRegression\n",
    "from sklearn.metrics import accuracy_score, roc_auc_score, confusion_matrix, classification_report\n",
    "\n",
    "\n",
    "# Initialize the Logistic Regression model\n",
    "logreg = LogisticRegression(max_iter=1000, random_state=42)\n",
    "\n",
    "# Train the model\n",
    "logreg.fit(X_train, y_train)\n",
    "\n",
    "# Predict on the validation set\n",
    "y_valid_pred = logreg.predict(X_valid)\n",
    "y_valid_pred_proba = logreg.predict_proba(X_valid)[:, 1]\n",
    "\n",
    "# Accuracy\n",
    "valid_accuracy = accuracy_score(y_valid, y_valid_pred)\n",
    "print(f'Validation Accuracy: {valid_accuracy:.4f}')\n",
    "\n",
    "# ROC AUC Score\n",
    "valid_roc_auc = roc_auc_score(y_valid, y_valid_pred_proba)\n",
    "print(f'Validation ROC AUC: {valid_roc_auc:.4f}')\n",
    "\n",
    "# Confusion Matrix\n",
    "conf_matrix = confusion_matrix(y_valid, y_valid_pred)\n",
    "print('Confusion Matrix:')\n",
    "print(conf_matrix)\n",
    "\n",
    "# Classification Report\n",
    "class_report = classification_report(y_valid, y_valid_pred)\n",
    "print('Classification Report:')\n",
    "print(class_report)\n"
   ]
  },
  {
   "cell_type": "markdown",
   "id": "4bdb6aee",
   "metadata": {},
   "source": [
    "### K Nearest Neighbor (KNN)"
   ]
  },
  {
   "cell_type": "code",
   "execution_count": 63,
   "id": "616045e9",
   "metadata": {},
   "outputs": [
    {
     "name": "stdout",
     "output_type": "stream",
     "text": [
      "Validation Accuracy: 0.8741\n",
      "Validation ROC AUC: 0.9158\n",
      "Confusion Matrix:\n",
      "[[94839  7187]\n",
      " [10147 25501]]\n",
      "Classification Report:\n",
      "              precision    recall  f1-score   support\n",
      "\n",
      "           0       0.90      0.93      0.92    102026\n",
      "           1       0.78      0.72      0.75     35648\n",
      "\n",
      "    accuracy                           0.87    137674\n",
      "   macro avg       0.84      0.82      0.83    137674\n",
      "weighted avg       0.87      0.87      0.87    137674\n",
      "\n"
     ]
    }
   ],
   "source": [
    "from sklearn.neighbors import KNeighborsClassifier\n",
    "from sklearn.metrics import accuracy_score, roc_auc_score, confusion_matrix, classification_report\n",
    "\n",
    "# Initialize the Logistic Regression model\n",
    "knn_model = KNeighborsClassifier(n_neighbors=5) # generally k=5 is suitable to take decisions\n",
    "\n",
    "# Train the model\n",
    "knn_model.fit(X_train, y_train)\n",
    "\n",
    "# Predict on the validation set\n",
    "y_valid_pred = knn_model.predict(X_valid)\n",
    "y_valid_pred_proba = knn_model.predict_proba(X_valid)[:, 1]\n",
    "\n",
    "# Accuracy\n",
    "valid_accuracy = accuracy_score(y_valid, y_valid_pred)\n",
    "print(f'Validation Accuracy: {valid_accuracy:.4f}')\n",
    "\n",
    "# ROC AUC Score\n",
    "valid_roc_auc = roc_auc_score(y_valid, y_valid_pred_proba)\n",
    "print(f'Validation ROC AUC: {valid_roc_auc:.4f}')\n",
    "\n",
    "# Confusion Matrix\n",
    "conf_matrix = confusion_matrix(y_valid, y_valid_pred)\n",
    "print('Confusion Matrix:')\n",
    "print(conf_matrix)\n",
    "\n",
    "# Classification Report\n",
    "class_report = classification_report(y_valid, y_valid_pred)\n",
    "print('Classification Report:')\n",
    "print(class_report)"
   ]
  }
 ],
 "metadata": {
  "kernelspec": {
   "display_name": "Python 3 (ipykernel)",
   "language": "python",
   "name": "python3"
  },
  "language_info": {
   "codemirror_mode": {
    "name": "ipython",
    "version": 3
   },
   "file_extension": ".py",
   "mimetype": "text/x-python",
   "name": "python",
   "nbconvert_exporter": "python",
   "pygments_lexer": "ipython3",
   "version": "3.11.5"
  }
 },
 "nbformat": 4,
 "nbformat_minor": 5
}
